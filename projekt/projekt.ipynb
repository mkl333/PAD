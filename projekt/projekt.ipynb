{
 "cells": [
  {
   "cell_type": "markdown",
   "metadata": {},
   "source": [
    "1. Wstępna analiza i czyszczenie danych"
   ]
  },
  {
   "cell_type": "code",
   "execution_count": 1563,
   "metadata": {},
   "outputs": [
    {
     "data": {
      "text/html": [
       "<div>\n",
       "<style scoped>\n",
       "    .dataframe tbody tr th:only-of-type {\n",
       "        vertical-align: middle;\n",
       "    }\n",
       "\n",
       "    .dataframe tbody tr th {\n",
       "        vertical-align: top;\n",
       "    }\n",
       "\n",
       "    .dataframe thead th {\n",
       "        text-align: right;\n",
       "    }\n",
       "</style>\n",
       "<table border=\"1\" class=\"dataframe\">\n",
       "  <thead>\n",
       "    <tr style=\"text-align: right;\">\n",
       "      <th></th>\n",
       "      <th>carat</th>\n",
       "      <th>clarity</th>\n",
       "      <th>color</th>\n",
       "      <th>cut</th>\n",
       "      <th>x dimension</th>\n",
       "      <th>y dimension</th>\n",
       "      <th>z dimension</th>\n",
       "      <th>depth</th>\n",
       "      <th>table</th>\n",
       "      <th>price</th>\n",
       "    </tr>\n",
       "  </thead>\n",
       "  <tbody>\n",
       "    <tr>\n",
       "      <th>0</th>\n",
       "      <td>0.5</td>\n",
       "      <td>IF</td>\n",
       "      <td>D</td>\n",
       "      <td>Ideal</td>\n",
       "      <td>5.1</td>\n",
       "      <td>5.15</td>\n",
       "      <td>3.2</td>\n",
       "      <td>61.5</td>\n",
       "      <td></td>\n",
       "      <td>3000</td>\n",
       "    </tr>\n",
       "    <tr>\n",
       "      <th>1</th>\n",
       "      <td>0.7</td>\n",
       "      <td>vvs2</td>\n",
       "      <td>E</td>\n",
       "      <td>premium</td>\n",
       "      <td>5.7</td>\n",
       "      <td></td>\n",
       "      <td>3.52</td>\n",
       "      <td>62</td>\n",
       "      <td>59</td>\n",
       "      <td>4500</td>\n",
       "    </tr>\n",
       "    <tr>\n",
       "      <th>2</th>\n",
       "      <td>NaN</td>\n",
       "      <td>Si2</td>\n",
       "      <td>h</td>\n",
       "      <td>Good</td>\n",
       "      <td>4.3</td>\n",
       "      <td>4.31</td>\n",
       "      <td></td>\n",
       "      <td>62.3</td>\n",
       "      <td>56</td>\n",
       "      <td>700</td>\n",
       "    </tr>\n",
       "    <tr>\n",
       "      <th>3</th>\n",
       "      <td>1.2</td>\n",
       "      <td>if</td>\n",
       "      <td>d</td>\n",
       "      <td>ideal</td>\n",
       "      <td></td>\n",
       "      <td>6.82</td>\n",
       "      <td>4.2</td>\n",
       "      <td>61.7</td>\n",
       "      <td>58</td>\n",
       "      <td>10000</td>\n",
       "    </tr>\n",
       "    <tr>\n",
       "      <th>4</th>\n",
       "      <td>0.9</td>\n",
       "      <td>I1</td>\n",
       "      <td>J</td>\n",
       "      <td>Fair</td>\n",
       "      <td>6</td>\n",
       "      <td></td>\n",
       "      <td>3.7</td>\n",
       "      <td>61.7</td>\n",
       "      <td></td>\n",
       "      <td>2400</td>\n",
       "    </tr>\n",
       "  </tbody>\n",
       "</table>\n",
       "</div>"
      ],
      "text/plain": [
       "   carat  clarity  color       cut  x dimension  y dimension  z dimension  \\\n",
       "0    0.5       IF      D     Ideal          5.1         5.15          3.2   \n",
       "1    0.7     vvs2      E   premium          5.7                      3.52   \n",
       "2    NaN      Si2      h      Good          4.3         4.31                \n",
       "3    1.2       if      d     ideal                      6.82          4.2   \n",
       "4    0.9       I1      J      Fair            6                       3.7   \n",
       "\n",
       "   depth  table   price  \n",
       "0   61.5           3000  \n",
       "1     62     59    4500  \n",
       "2   62.3     56     700  \n",
       "3   61.7     58   10000  \n",
       "4   61.7           2400  "
      ]
     },
     "execution_count": 1563,
     "metadata": {},
     "output_type": "execute_result"
    }
   ],
   "source": [
    "import pandas as pd\n",
    "import numpy as np\n",
    "\n",
    "pd.set_option(\"display.max_columns\", None)\n",
    "messy_data = pd.read_csv(\"messy_data.csv\")\n",
    "\n",
    "messy_data.head()"
   ]
  },
  {
   "cell_type": "markdown",
   "metadata": {},
   "source": [
    "kolumny:\n",
    "- carat: masa\n",
    "- clarity: czystość\n",
    "- color: kolor\n",
    "- cut: szlif\n",
    "- x dimension: wymiar x\n",
    "- y dimension: wymiar y\n",
    "- z dimension: wymiar z\n",
    "- depth: cecha wyrażona w %\n",
    "- table: cecha wyrażona w %\n",
    "- price: cena"
   ]
  },
  {
   "cell_type": "code",
   "execution_count": 1564,
   "metadata": {},
   "outputs": [
    {
     "data": {
      "text/plain": [
       "carat           float64\n",
       " clarity         object\n",
       " color           object\n",
       " cut             object\n",
       " x dimension     object\n",
       " y dimension     object\n",
       " z dimension     object\n",
       " depth           object\n",
       " table           object\n",
       " price           object\n",
       "dtype: object"
      ]
     },
     "execution_count": 1564,
     "metadata": {},
     "output_type": "execute_result"
    }
   ],
   "source": [
    "messy_data.dtypes"
   ]
  },
  {
   "cell_type": "code",
   "execution_count": 1565,
   "metadata": {},
   "outputs": [],
   "source": [
    "messy_data.rename(columns=lambda x: x.strip(), inplace=True)"
   ]
  },
  {
   "cell_type": "markdown",
   "metadata": {},
   "source": [
    "Przypiszę teraz odpowiedni typ każdej kolumnie. Jak widać było wcześniej, wszystkie kolumny poza \"carat\" mają typ object."
   ]
  },
  {
   "cell_type": "code",
   "execution_count": 1566,
   "metadata": {},
   "outputs": [
    {
     "data": {
      "text/plain": [
       "0        IF\n",
       "1      vvs2\n",
       "2       Si2\n",
       "3        if\n",
       "4        I1\n",
       "5       Si1\n",
       "7      Vvs1\n",
       "8       SI2\n",
       "9      vvs1\n",
       "12      si2\n",
       "16      si1\n",
       "19       i1\n",
       "20     VVS1\n",
       "23     VVS2\n",
       "Name: clarity, dtype: object"
      ]
     },
     "execution_count": 1566,
     "metadata": {},
     "output_type": "execute_result"
    }
   ],
   "source": [
    "messy_data[\"clarity\"].drop_duplicates()"
   ]
  },
  {
   "cell_type": "code",
   "execution_count": 1567,
   "metadata": {},
   "outputs": [
    {
     "data": {
      "text/plain": [
       "0        IF\n",
       "1      VVS2\n",
       "2       SI2\n",
       "3        IF\n",
       "4        I1\n",
       "       ... \n",
       "195     SI1\n",
       "196    VVS2\n",
       "197      I1\n",
       "198     SI2\n",
       "199    VVS1\n",
       "Name: clarity, Length: 200, dtype: category\n",
       "Categories (6, object): ['I1', 'IF', 'SI1', 'SI2', 'VVS1', 'VVS2']"
      ]
     },
     "execution_count": 1567,
     "metadata": {},
     "output_type": "execute_result"
    }
   ],
   "source": [
    "messy_data[\"clarity\"] = messy_data[\"clarity\"].str.strip().str.upper()\n",
    "messy_data[\"clarity\"] = messy_data[\"clarity\"].astype(\"category\")\n",
    "messy_data[\"clarity\"]"
   ]
  },
  {
   "cell_type": "code",
   "execution_count": 1568,
   "metadata": {},
   "outputs": [
    {
     "data": {
      "text/plain": [
       "0              D\n",
       "1              E\n",
       "2              h\n",
       "3              d\n",
       "4              J\n",
       "5              G\n",
       "7              f\n",
       "8              I\n",
       "9              F\n",
       "10     Colorless\n",
       "12             j\n",
       "13             e\n",
       "14             H\n",
       "16             g\n",
       "30     colorless\n",
       "Name: color, dtype: object"
      ]
     },
     "execution_count": 1568,
     "metadata": {},
     "output_type": "execute_result"
    }
   ],
   "source": [
    "messy_data[\"color\"].drop_duplicates()"
   ]
  },
  {
   "cell_type": "code",
   "execution_count": 1569,
   "metadata": {},
   "outputs": [
    {
     "data": {
      "text/plain": [
       "0             D\n",
       "1             E\n",
       "2             H\n",
       "4             J\n",
       "5             G\n",
       "7             F\n",
       "8             I\n",
       "10    COLORLESS\n",
       "Name: color, dtype: object"
      ]
     },
     "execution_count": 1569,
     "metadata": {},
     "output_type": "execute_result"
    }
   ],
   "source": [
    "messy_data[\"color\"] = messy_data[\"color\"].str.upper().str.strip()\n",
    "messy_data[\"color\"].drop_duplicates()"
   ]
  },
  {
   "cell_type": "code",
   "execution_count": 1570,
   "metadata": {},
   "outputs": [
    {
     "data": {
      "text/plain": [
       "0      D\n",
       "1      E\n",
       "2      H\n",
       "3      D\n",
       "4      J\n",
       "      ..\n",
       "195    F\n",
       "196    H\n",
       "197    I\n",
       "198    E\n",
       "199    G\n",
       "Name: color, Length: 200, dtype: category\n",
       "Categories (8, object): ['COLORLESS', 'D', 'E', 'F', 'G', 'H', 'I', 'J']"
      ]
     },
     "execution_count": 1570,
     "metadata": {},
     "output_type": "execute_result"
    }
   ],
   "source": [
    "messy_data[\"color\"] = messy_data[\"color\"].astype(\"category\")\n",
    "messy_data[\"color\"]"
   ]
  },
  {
   "cell_type": "code",
   "execution_count": 1571,
   "metadata": {},
   "outputs": [
    {
     "data": {
      "text/plain": [
       "0          Ideal\n",
       "1        premium\n",
       "2           Good\n",
       "3          ideal\n",
       "4           Fair\n",
       "5      very Good\n",
       "7           good\n",
       "11     Very good\n",
       "16     very good\n",
       "19          fair\n",
       "41       Premium\n",
       "45     Very Good\n",
       "Name: cut, dtype: object"
      ]
     },
     "execution_count": 1571,
     "metadata": {},
     "output_type": "execute_result"
    }
   ],
   "source": [
    "messy_data[\"cut\"].drop_duplicates()"
   ]
  },
  {
   "cell_type": "code",
   "execution_count": 1572,
   "metadata": {},
   "outputs": [
    {
     "data": {
      "text/plain": [
       "0          IDEAL\n",
       "1        PREMIUM\n",
       "2           GOOD\n",
       "3          IDEAL\n",
       "4           FAIR\n",
       "         ...    \n",
       "195    VERY GOOD\n",
       "196         GOOD\n",
       "197      PREMIUM\n",
       "198         FAIR\n",
       "199    VERY GOOD\n",
       "Name: cut, Length: 200, dtype: category\n",
       "Categories (5, object): ['FAIR', 'GOOD', 'IDEAL', 'PREMIUM', 'VERY GOOD']"
      ]
     },
     "execution_count": 1572,
     "metadata": {},
     "output_type": "execute_result"
    }
   ],
   "source": [
    "messy_data[\"cut\"] = messy_data[\"cut\"].str.strip().str.upper()\n",
    "messy_data[\"cut\"] = messy_data[\"cut\"].astype(\"category\")\n",
    "messy_data[\"cut\"]"
   ]
  },
  {
   "cell_type": "code",
   "execution_count": 1573,
   "metadata": {},
   "outputs": [
    {
     "data": {
      "text/html": [
       "<div>\n",
       "<style scoped>\n",
       "    .dataframe tbody tr th:only-of-type {\n",
       "        vertical-align: middle;\n",
       "    }\n",
       "\n",
       "    .dataframe tbody tr th {\n",
       "        vertical-align: top;\n",
       "    }\n",
       "\n",
       "    .dataframe thead th {\n",
       "        text-align: right;\n",
       "    }\n",
       "</style>\n",
       "<table border=\"1\" class=\"dataframe\">\n",
       "  <thead>\n",
       "    <tr style=\"text-align: right;\">\n",
       "      <th></th>\n",
       "      <th>x dimension</th>\n",
       "      <th>y dimension</th>\n",
       "      <th>z dimension</th>\n",
       "      <th>depth</th>\n",
       "      <th>table</th>\n",
       "      <th>price</th>\n",
       "    </tr>\n",
       "  </thead>\n",
       "  <tbody>\n",
       "    <tr>\n",
       "      <th>0</th>\n",
       "      <td>5.1</td>\n",
       "      <td>5.15</td>\n",
       "      <td>3.2</td>\n",
       "      <td>61.5</td>\n",
       "      <td></td>\n",
       "      <td>3000</td>\n",
       "    </tr>\n",
       "    <tr>\n",
       "      <th>1</th>\n",
       "      <td>5.7</td>\n",
       "      <td></td>\n",
       "      <td>3.52</td>\n",
       "      <td>62</td>\n",
       "      <td>59</td>\n",
       "      <td>4500</td>\n",
       "    </tr>\n",
       "    <tr>\n",
       "      <th>2</th>\n",
       "      <td>4.3</td>\n",
       "      <td>4.31</td>\n",
       "      <td></td>\n",
       "      <td>62.3</td>\n",
       "      <td>56</td>\n",
       "      <td>700</td>\n",
       "    </tr>\n",
       "    <tr>\n",
       "      <th>3</th>\n",
       "      <td></td>\n",
       "      <td>6.82</td>\n",
       "      <td>4.2</td>\n",
       "      <td>61.7</td>\n",
       "      <td>58</td>\n",
       "      <td>10000</td>\n",
       "    </tr>\n",
       "    <tr>\n",
       "      <th>4</th>\n",
       "      <td>6</td>\n",
       "      <td></td>\n",
       "      <td>3.7</td>\n",
       "      <td>61.7</td>\n",
       "      <td></td>\n",
       "      <td>2400</td>\n",
       "    </tr>\n",
       "    <tr>\n",
       "      <th>...</th>\n",
       "      <td>...</td>\n",
       "      <td>...</td>\n",
       "      <td>...</td>\n",
       "      <td>...</td>\n",
       "      <td>...</td>\n",
       "      <td>...</td>\n",
       "    </tr>\n",
       "    <tr>\n",
       "      <th>195</th>\n",
       "      <td>4.9</td>\n",
       "      <td>4.89</td>\n",
       "      <td></td>\n",
       "      <td>62.4</td>\n",
       "      <td>59</td>\n",
       "      <td>2300</td>\n",
       "    </tr>\n",
       "    <tr>\n",
       "      <th>196</th>\n",
       "      <td>6.9</td>\n",
       "      <td></td>\n",
       "      <td>4.27</td>\n",
       "      <td></td>\n",
       "      <td>55</td>\n",
       "      <td>10400</td>\n",
       "    </tr>\n",
       "    <tr>\n",
       "      <th>197</th>\n",
       "      <td>5.3</td>\n",
       "      <td></td>\n",
       "      <td>3.28</td>\n",
       "      <td>62.3</td>\n",
       "      <td>57</td>\n",
       "      <td>150000</td>\n",
       "    </tr>\n",
       "    <tr>\n",
       "      <th>198</th>\n",
       "      <td>6.1</td>\n",
       "      <td>6.13</td>\n",
       "      <td>3.78</td>\n",
       "      <td></td>\n",
       "      <td>58</td>\n",
       "      <td>6300</td>\n",
       "    </tr>\n",
       "    <tr>\n",
       "      <th>199</th>\n",
       "      <td>6.4</td>\n",
       "      <td>6.43</td>\n",
       "      <td>3.97</td>\n",
       "      <td>62.5</td>\n",
       "      <td></td>\n",
       "      <td>7500</td>\n",
       "    </tr>\n",
       "  </tbody>\n",
       "</table>\n",
       "<p>200 rows × 6 columns</p>\n",
       "</div>"
      ],
      "text/plain": [
       "    x dimension y dimension z dimension  depth table    price\n",
       "0           5.1        5.15         3.2   61.5           3000\n",
       "1           5.7                    3.52     62    59     4500\n",
       "2           4.3        4.31               62.3    56      700\n",
       "3                      6.82         4.2   61.7    58    10000\n",
       "4             6                     3.7   61.7           2400\n",
       "..          ...         ...         ...    ...   ...      ...\n",
       "195         4.9        4.89               62.4    59     2300\n",
       "196         6.9                    4.27           55    10400\n",
       "197         5.3                    3.28   62.3    57   150000\n",
       "198         6.1        6.13        3.78           58     6300\n",
       "199         6.4        6.43        3.97   62.5           7500\n",
       "\n",
       "[200 rows x 6 columns]"
      ]
     },
     "execution_count": 1573,
     "metadata": {},
     "output_type": "execute_result"
    }
   ],
   "source": [
    "messy_data[[\"x dimension\", \"y dimension\", \"z dimension\", \"depth\", \"table\", \"price\"]]"
   ]
  },
  {
   "cell_type": "code",
   "execution_count": 1574,
   "metadata": {},
   "outputs": [
    {
     "data": {
      "text/html": [
       "<div>\n",
       "<style scoped>\n",
       "    .dataframe tbody tr th:only-of-type {\n",
       "        vertical-align: middle;\n",
       "    }\n",
       "\n",
       "    .dataframe tbody tr th {\n",
       "        vertical-align: top;\n",
       "    }\n",
       "\n",
       "    .dataframe thead th {\n",
       "        text-align: right;\n",
       "    }\n",
       "</style>\n",
       "<table border=\"1\" class=\"dataframe\">\n",
       "  <thead>\n",
       "    <tr style=\"text-align: right;\">\n",
       "      <th></th>\n",
       "      <th>x dimension</th>\n",
       "      <th>y dimension</th>\n",
       "      <th>z dimension</th>\n",
       "      <th>depth</th>\n",
       "      <th>table</th>\n",
       "      <th>price</th>\n",
       "    </tr>\n",
       "  </thead>\n",
       "  <tbody>\n",
       "    <tr>\n",
       "      <th>0</th>\n",
       "      <td>5.1</td>\n",
       "      <td>5.15</td>\n",
       "      <td>3.20</td>\n",
       "      <td>61.5</td>\n",
       "      <td>NaN</td>\n",
       "      <td>3000.0</td>\n",
       "    </tr>\n",
       "    <tr>\n",
       "      <th>1</th>\n",
       "      <td>5.7</td>\n",
       "      <td>NaN</td>\n",
       "      <td>3.52</td>\n",
       "      <td>62.0</td>\n",
       "      <td>59</td>\n",
       "      <td>4500.0</td>\n",
       "    </tr>\n",
       "    <tr>\n",
       "      <th>2</th>\n",
       "      <td>4.3</td>\n",
       "      <td>4.31</td>\n",
       "      <td>NaN</td>\n",
       "      <td>62.3</td>\n",
       "      <td>56</td>\n",
       "      <td>700.0</td>\n",
       "    </tr>\n",
       "    <tr>\n",
       "      <th>3</th>\n",
       "      <td>NaN</td>\n",
       "      <td>6.82</td>\n",
       "      <td>4.20</td>\n",
       "      <td>61.7</td>\n",
       "      <td>58</td>\n",
       "      <td>10000.0</td>\n",
       "    </tr>\n",
       "    <tr>\n",
       "      <th>4</th>\n",
       "      <td>6.0</td>\n",
       "      <td>NaN</td>\n",
       "      <td>3.70</td>\n",
       "      <td>61.7</td>\n",
       "      <td>NaN</td>\n",
       "      <td>2400.0</td>\n",
       "    </tr>\n",
       "    <tr>\n",
       "      <th>...</th>\n",
       "      <td>...</td>\n",
       "      <td>...</td>\n",
       "      <td>...</td>\n",
       "      <td>...</td>\n",
       "      <td>...</td>\n",
       "      <td>...</td>\n",
       "    </tr>\n",
       "    <tr>\n",
       "      <th>195</th>\n",
       "      <td>4.9</td>\n",
       "      <td>4.89</td>\n",
       "      <td>NaN</td>\n",
       "      <td>62.4</td>\n",
       "      <td>59</td>\n",
       "      <td>2300.0</td>\n",
       "    </tr>\n",
       "    <tr>\n",
       "      <th>196</th>\n",
       "      <td>6.9</td>\n",
       "      <td>NaN</td>\n",
       "      <td>4.27</td>\n",
       "      <td>NaN</td>\n",
       "      <td>55</td>\n",
       "      <td>10400.0</td>\n",
       "    </tr>\n",
       "    <tr>\n",
       "      <th>197</th>\n",
       "      <td>5.3</td>\n",
       "      <td>NaN</td>\n",
       "      <td>3.28</td>\n",
       "      <td>62.3</td>\n",
       "      <td>57</td>\n",
       "      <td>150000.0</td>\n",
       "    </tr>\n",
       "    <tr>\n",
       "      <th>198</th>\n",
       "      <td>6.1</td>\n",
       "      <td>6.13</td>\n",
       "      <td>3.78</td>\n",
       "      <td>NaN</td>\n",
       "      <td>58</td>\n",
       "      <td>6300.0</td>\n",
       "    </tr>\n",
       "    <tr>\n",
       "      <th>199</th>\n",
       "      <td>6.4</td>\n",
       "      <td>6.43</td>\n",
       "      <td>3.97</td>\n",
       "      <td>62.5</td>\n",
       "      <td>NaN</td>\n",
       "      <td>7500.0</td>\n",
       "    </tr>\n",
       "  </tbody>\n",
       "</table>\n",
       "<p>200 rows × 6 columns</p>\n",
       "</div>"
      ],
      "text/plain": [
       "     x dimension  y dimension  z dimension  depth table     price\n",
       "0            5.1         5.15         3.20   61.5   NaN    3000.0\n",
       "1            5.7          NaN         3.52   62.0    59    4500.0\n",
       "2            4.3         4.31          NaN   62.3    56     700.0\n",
       "3            NaN         6.82         4.20   61.7    58   10000.0\n",
       "4            6.0          NaN         3.70   61.7   NaN    2400.0\n",
       "..           ...          ...          ...    ...   ...       ...\n",
       "195          4.9         4.89          NaN   62.4    59    2300.0\n",
       "196          6.9          NaN         4.27    NaN    55   10400.0\n",
       "197          5.3          NaN         3.28   62.3    57  150000.0\n",
       "198          6.1         6.13         3.78    NaN    58    6300.0\n",
       "199          6.4         6.43         3.97   62.5   NaN    7500.0\n",
       "\n",
       "[200 rows x 6 columns]"
      ]
     },
     "execution_count": 1574,
     "metadata": {},
     "output_type": "execute_result"
    }
   ],
   "source": [
    "messy_data[[\"x dimension\", \"y dimension\", \"z dimension\", \"depth\", \"table\", \"price\"]] = messy_data[[\"x dimension\", \"y dimension\", \"z dimension\", \"depth\", \"table\", \"price\"]].apply(lambda x: x.str.strip()).replace('', np.nan)\n",
    "messy_data[[\"x dimension\", \"y dimension\", \"z dimension\", \"depth\", \"price\"]] = messy_data[[\"x dimension\", \"y dimension\", \"z dimension\", \"depth\", \"price\"]].astype(\"float64\")\n",
    "messy_data[[\"x dimension\", \"y dimension\", \"z dimension\", \"depth\", \"table\", \"price\"]]"
   ]
  },
  {
   "cell_type": "code",
   "execution_count": 1576,
   "metadata": {},
   "outputs": [
    {
     "data": {
      "text/html": [
       "<div>\n",
       "<style scoped>\n",
       "    .dataframe tbody tr th:only-of-type {\n",
       "        vertical-align: middle;\n",
       "    }\n",
       "\n",
       "    .dataframe tbody tr th {\n",
       "        vertical-align: top;\n",
       "    }\n",
       "\n",
       "    .dataframe thead th {\n",
       "        text-align: right;\n",
       "    }\n",
       "</style>\n",
       "<table border=\"1\" class=\"dataframe\">\n",
       "  <thead>\n",
       "    <tr style=\"text-align: right;\">\n",
       "      <th></th>\n",
       "      <th>carat</th>\n",
       "      <th>clarity</th>\n",
       "      <th>color</th>\n",
       "      <th>cut</th>\n",
       "      <th>x dimension</th>\n",
       "      <th>y dimension</th>\n",
       "      <th>z dimension</th>\n",
       "      <th>depth</th>\n",
       "      <th>table</th>\n",
       "      <th>price</th>\n",
       "    </tr>\n",
       "  </thead>\n",
       "  <tbody>\n",
       "  </tbody>\n",
       "</table>\n",
       "</div>"
      ],
      "text/plain": [
       "Empty DataFrame\n",
       "Columns: [carat, clarity, color, cut, x dimension, y dimension, z dimension, depth, table, price]\n",
       "Index: []"
      ]
     },
     "execution_count": 1576,
     "metadata": {},
     "output_type": "execute_result"
    }
   ],
   "source": [
    "messy_data.loc[messy_data[\"table\"] == \"0\"]"
   ]
  },
  {
   "cell_type": "markdown",
   "metadata": {},
   "source": [
    "Brakujące wartości"
   ]
  },
  {
   "cell_type": "code",
   "execution_count": 1577,
   "metadata": {},
   "outputs": [
    {
     "data": {
      "text/plain": [
       "carat           True\n",
       "clarity        False\n",
       "color          False\n",
       "cut            False\n",
       "x dimension     True\n",
       "y dimension     True\n",
       "z dimension     True\n",
       "depth           True\n",
       "table           True\n",
       "price           True\n",
       "dtype: bool"
      ]
     },
     "execution_count": 1577,
     "metadata": {},
     "output_type": "execute_result"
    }
   ],
   "source": [
    "messy_data.isna().any()"
   ]
  },
  {
   "cell_type": "markdown",
   "metadata": {},
   "source": [
    "Liczba karatów znacząco wpływa na cenę i wymiary, zatem usuwam wiersze z brakującą wartością."
   ]
  },
  {
   "cell_type": "code",
   "execution_count": 1578,
   "metadata": {},
   "outputs": [
    {
     "data": {
      "text/plain": [
       "carat          False\n",
       "clarity        False\n",
       "color          False\n",
       "cut            False\n",
       "x dimension     True\n",
       "y dimension     True\n",
       "z dimension     True\n",
       "depth           True\n",
       "table           True\n",
       "price           True\n",
       "dtype: bool"
      ]
     },
     "execution_count": 1578,
     "metadata": {},
     "output_type": "execute_result"
    }
   ],
   "source": [
    "messy_data.dropna(subset=[\"carat\"], inplace=True)\n",
    "messy_data.reset_index(inplace=True, drop=True)\n",
    "messy_data.isnull().any()"
   ]
  },
  {
   "cell_type": "markdown",
   "metadata": {},
   "source": [
    "Z racji na zależności między kolumnami, pozostałe braki wypełniam za pomocą metody KNN."
   ]
  },
  {
   "cell_type": "code",
   "execution_count": 1579,
   "metadata": {},
   "outputs": [
    {
     "data": {
      "text/html": [
       "<div>\n",
       "<style scoped>\n",
       "    .dataframe tbody tr th:only-of-type {\n",
       "        vertical-align: middle;\n",
       "    }\n",
       "\n",
       "    .dataframe tbody tr th {\n",
       "        vertical-align: top;\n",
       "    }\n",
       "\n",
       "    .dataframe thead th {\n",
       "        text-align: right;\n",
       "    }\n",
       "</style>\n",
       "<table border=\"1\" class=\"dataframe\">\n",
       "  <thead>\n",
       "    <tr style=\"text-align: right;\">\n",
       "      <th></th>\n",
       "      <th>carat</th>\n",
       "      <th>x dimension</th>\n",
       "      <th>y dimension</th>\n",
       "      <th>z dimension</th>\n",
       "      <th>depth</th>\n",
       "      <th>table</th>\n",
       "      <th>price</th>\n",
       "      <th>clarity</th>\n",
       "      <th>color</th>\n",
       "      <th>cut</th>\n",
       "    </tr>\n",
       "  </thead>\n",
       "  <tbody>\n",
       "    <tr>\n",
       "      <th>0</th>\n",
       "      <td>0.20</td>\n",
       "      <td>3.9</td>\n",
       "      <td>3.89</td>\n",
       "      <td>2.4100</td>\n",
       "      <td>62.100</td>\n",
       "      <td>56.25</td>\n",
       "      <td>500.0</td>\n",
       "      <td>IF</td>\n",
       "      <td>D</td>\n",
       "      <td>IDEAL</td>\n",
       "    </tr>\n",
       "    <tr>\n",
       "      <th>1</th>\n",
       "      <td>0.30</td>\n",
       "      <td>4.4</td>\n",
       "      <td>4.41</td>\n",
       "      <td>2.8475</td>\n",
       "      <td>62.100</td>\n",
       "      <td>55.00</td>\n",
       "      <td>600.0</td>\n",
       "      <td>VVS2</td>\n",
       "      <td>E</td>\n",
       "      <td>PREMIUM</td>\n",
       "    </tr>\n",
       "    <tr>\n",
       "      <th>2</th>\n",
       "      <td>0.35</td>\n",
       "      <td>4.5</td>\n",
       "      <td>4.49</td>\n",
       "      <td>3.2150</td>\n",
       "      <td>62.300</td>\n",
       "      <td>56.00</td>\n",
       "      <td>2100.0</td>\n",
       "      <td>IF</td>\n",
       "      <td>D</td>\n",
       "      <td>IDEAL</td>\n",
       "    </tr>\n",
       "    <tr>\n",
       "      <th>3</th>\n",
       "      <td>0.35</td>\n",
       "      <td>4.5</td>\n",
       "      <td>4.52</td>\n",
       "      <td>2.7900</td>\n",
       "      <td>62.000</td>\n",
       "      <td>56.25</td>\n",
       "      <td>900.0</td>\n",
       "      <td>I1</td>\n",
       "      <td>J</td>\n",
       "      <td>FAIR</td>\n",
       "    </tr>\n",
       "    <tr>\n",
       "      <th>4</th>\n",
       "      <td>0.35</td>\n",
       "      <td>4.5</td>\n",
       "      <td>4.52</td>\n",
       "      <td>3.0075</td>\n",
       "      <td>61.900</td>\n",
       "      <td>56.00</td>\n",
       "      <td>1300.0</td>\n",
       "      <td>IF</td>\n",
       "      <td>D</td>\n",
       "      <td>IDEAL</td>\n",
       "    </tr>\n",
       "    <tr>\n",
       "      <th>...</th>\n",
       "      <td>...</td>\n",
       "      <td>...</td>\n",
       "      <td>...</td>\n",
       "      <td>...</td>\n",
       "      <td>...</td>\n",
       "      <td>...</td>\n",
       "      <td>...</td>\n",
       "      <td>...</td>\n",
       "      <td>...</td>\n",
       "      <td>...</td>\n",
       "    </tr>\n",
       "    <tr>\n",
       "      <th>145</th>\n",
       "      <td>1.40</td>\n",
       "      <td>7.1</td>\n",
       "      <td>6.50</td>\n",
       "      <td>4.4000</td>\n",
       "      <td>62.700</td>\n",
       "      <td>58.00</td>\n",
       "      <td>11500.0</td>\n",
       "      <td>SI1</td>\n",
       "      <td>G</td>\n",
       "      <td>IDEAL</td>\n",
       "    </tr>\n",
       "    <tr>\n",
       "      <th>146</th>\n",
       "      <td>1.40</td>\n",
       "      <td>7.2</td>\n",
       "      <td>6.50</td>\n",
       "      <td>4.4500</td>\n",
       "      <td>62.700</td>\n",
       "      <td>58.00</td>\n",
       "      <td>12000.0</td>\n",
       "      <td>SI1</td>\n",
       "      <td>F</td>\n",
       "      <td>VERY GOOD</td>\n",
       "    </tr>\n",
       "    <tr>\n",
       "      <th>147</th>\n",
       "      <td>1.40</td>\n",
       "      <td>7.3</td>\n",
       "      <td>6.35</td>\n",
       "      <td>4.5000</td>\n",
       "      <td>62.600</td>\n",
       "      <td>59.00</td>\n",
       "      <td>350000.0</td>\n",
       "      <td>VVS2</td>\n",
       "      <td>H</td>\n",
       "      <td>GOOD</td>\n",
       "    </tr>\n",
       "    <tr>\n",
       "      <th>148</th>\n",
       "      <td>1.50</td>\n",
       "      <td>7.2</td>\n",
       "      <td>7.18</td>\n",
       "      <td>4.0900</td>\n",
       "      <td>62.700</td>\n",
       "      <td>59.00</td>\n",
       "      <td>10800.0</td>\n",
       "      <td>I1</td>\n",
       "      <td>I</td>\n",
       "      <td>PREMIUM</td>\n",
       "    </tr>\n",
       "    <tr>\n",
       "      <th>149</th>\n",
       "      <td>1.60</td>\n",
       "      <td>7.3</td>\n",
       "      <td>7.28</td>\n",
       "      <td>4.5000</td>\n",
       "      <td>62.025</td>\n",
       "      <td>54.00</td>\n",
       "      <td>3400.0</td>\n",
       "      <td>SI2</td>\n",
       "      <td>E</td>\n",
       "      <td>FAIR</td>\n",
       "    </tr>\n",
       "  </tbody>\n",
       "</table>\n",
       "<p>150 rows × 10 columns</p>\n",
       "</div>"
      ],
      "text/plain": [
       "     carat  x dimension  y dimension  z dimension   depth  table     price  \\\n",
       "0     0.20          3.9         3.89       2.4100  62.100  56.25     500.0   \n",
       "1     0.30          4.4         4.41       2.8475  62.100  55.00     600.0   \n",
       "2     0.35          4.5         4.49       3.2150  62.300  56.00    2100.0   \n",
       "3     0.35          4.5         4.52       2.7900  62.000  56.25     900.0   \n",
       "4     0.35          4.5         4.52       3.0075  61.900  56.00    1300.0   \n",
       "..     ...          ...          ...          ...     ...    ...       ...   \n",
       "145   1.40          7.1         6.50       4.4000  62.700  58.00   11500.0   \n",
       "146   1.40          7.2         6.50       4.4500  62.700  58.00   12000.0   \n",
       "147   1.40          7.3         6.35       4.5000  62.600  59.00  350000.0   \n",
       "148   1.50          7.2         7.18       4.0900  62.700  59.00   10800.0   \n",
       "149   1.60          7.3         7.28       4.5000  62.025  54.00    3400.0   \n",
       "\n",
       "    clarity color        cut  \n",
       "0        IF     D      IDEAL  \n",
       "1      VVS2     E    PREMIUM  \n",
       "2        IF     D      IDEAL  \n",
       "3        I1     J       FAIR  \n",
       "4        IF     D      IDEAL  \n",
       "..      ...   ...        ...  \n",
       "145     SI1     G      IDEAL  \n",
       "146     SI1     F  VERY GOOD  \n",
       "147    VVS2     H       GOOD  \n",
       "148      I1     I    PREMIUM  \n",
       "149     SI2     E       FAIR  \n",
       "\n",
       "[150 rows x 10 columns]"
      ]
     },
     "execution_count": 1579,
     "metadata": {},
     "output_type": "execute_result"
    }
   ],
   "source": [
    "from sklearn.impute import KNNImputer\n",
    "\n",
    "messy_data = messy_data.sort_values(by=[\"carat\", \"x dimension\", \"y dimension\", \"z dimension\"])\n",
    "cat_variables = messy_data[[\"clarity\", \"color\", \"cut\"]]\n",
    "cat_dummies = pd.get_dummies(cat_variables, drop_first=True)\n",
    "messy_data = messy_data.drop([\"clarity\", \"color\", \"cut\"], axis=1)\n",
    "messy_data = pd.concat([messy_data, cat_dummies], axis=1)\n",
    "\n",
    "num = [col for col in messy_data.columns if messy_data[col].dtypes != 'category']\n",
    "\n",
    "imputer = KNNImputer(n_neighbors=4)\n",
    "messy_data = pd.DataFrame(imputer.fit_transform(messy_data), columns=num)\n",
    "\n",
    "messy_data = messy_data.drop(cat_dummies.columns, axis=1)\n",
    "messy_data = pd.concat([messy_data, cat_variables], axis=1)\n",
    "\n",
    "messy_data"
   ]
  },
  {
   "cell_type": "code",
   "execution_count": 1580,
   "metadata": {},
   "outputs": [],
   "source": [
    "messy_data.sort_values(by=\"price\", inplace=True)"
   ]
  },
  {
   "cell_type": "code",
   "execution_count": 1581,
   "metadata": {},
   "outputs": [
    {
     "data": {
      "text/plain": [
       "0      56\n",
       "1      55\n",
       "3      56\n",
       "17     54\n",
       "4      56\n",
       "       ..\n",
       "145    58\n",
       "146    58\n",
       "42     57\n",
       "98     57\n",
       "147    59\n",
       "Name: table, Length: 150, dtype: int8"
      ]
     },
     "execution_count": 1581,
     "metadata": {},
     "output_type": "execute_result"
    }
   ],
   "source": [
    "messy_data[\"table\"] = messy_data[\"table\"].astype(\"int8\")\n",
    "messy_data[\"table\"]"
   ]
  },
  {
   "cell_type": "code",
   "execution_count": 1582,
   "metadata": {},
   "outputs": [
    {
     "data": {
      "text/plain": [
       "carat           float64\n",
       "x dimension     float64\n",
       "y dimension     float64\n",
       "z dimension     float64\n",
       "depth           float64\n",
       "table              int8\n",
       "price           float64\n",
       "clarity        category\n",
       "color          category\n",
       "cut            category\n",
       "dtype: object"
      ]
     },
     "execution_count": 1582,
     "metadata": {},
     "output_type": "execute_result"
    }
   ],
   "source": [
    "messy_data.dtypes"
   ]
  },
  {
   "cell_type": "code",
   "execution_count": 1583,
   "metadata": {},
   "outputs": [
    {
     "data": {
      "text/plain": [
       "carat          False\n",
       "x dimension    False\n",
       "y dimension    False\n",
       "z dimension    False\n",
       "depth          False\n",
       "table          False\n",
       "price          False\n",
       "clarity        False\n",
       "color          False\n",
       "cut            False\n",
       "dtype: bool"
      ]
     },
     "execution_count": 1583,
     "metadata": {},
     "output_type": "execute_result"
    }
   ],
   "source": [
    "messy_data.isnull().any()"
   ]
  },
  {
   "cell_type": "markdown",
   "metadata": {},
   "source": [
    "Z powodu dosyć dużej specyfiki klasyfikacji diamentów, duplikatów będę poszukiwał po wszystkich cechach poza ceną oraz wymiarami."
   ]
  },
  {
   "cell_type": "code",
   "execution_count": 1584,
   "metadata": {},
   "outputs": [
    {
     "data": {
      "text/html": [
       "<div>\n",
       "<style scoped>\n",
       "    .dataframe tbody tr th:only-of-type {\n",
       "        vertical-align: middle;\n",
       "    }\n",
       "\n",
       "    .dataframe tbody tr th {\n",
       "        vertical-align: top;\n",
       "    }\n",
       "\n",
       "    .dataframe thead th {\n",
       "        text-align: right;\n",
       "    }\n",
       "</style>\n",
       "<table border=\"1\" class=\"dataframe\">\n",
       "  <thead>\n",
       "    <tr style=\"text-align: right;\">\n",
       "      <th></th>\n",
       "      <th>carat</th>\n",
       "      <th>x dimension</th>\n",
       "      <th>y dimension</th>\n",
       "      <th>z dimension</th>\n",
       "      <th>depth</th>\n",
       "      <th>table</th>\n",
       "      <th>price</th>\n",
       "      <th>clarity</th>\n",
       "      <th>color</th>\n",
       "      <th>cut</th>\n",
       "    </tr>\n",
       "  </thead>\n",
       "  <tbody>\n",
       "    <tr>\n",
       "      <th>2</th>\n",
       "      <td>0.35</td>\n",
       "      <td>4.5</td>\n",
       "      <td>4.4900</td>\n",
       "      <td>3.2150</td>\n",
       "      <td>62.3</td>\n",
       "      <td>56</td>\n",
       "      <td>2100.0</td>\n",
       "      <td>IF</td>\n",
       "      <td>D</td>\n",
       "      <td>IDEAL</td>\n",
       "    </tr>\n",
       "    <tr>\n",
       "      <th>4</th>\n",
       "      <td>0.35</td>\n",
       "      <td>4.5</td>\n",
       "      <td>4.5200</td>\n",
       "      <td>3.0075</td>\n",
       "      <td>61.9</td>\n",
       "      <td>56</td>\n",
       "      <td>1300.0</td>\n",
       "      <td>IF</td>\n",
       "      <td>D</td>\n",
       "      <td>IDEAL</td>\n",
       "    </tr>\n",
       "    <tr>\n",
       "      <th>10</th>\n",
       "      <td>0.40</td>\n",
       "      <td>4.7</td>\n",
       "      <td>5.4825</td>\n",
       "      <td>2.9200</td>\n",
       "      <td>62.1</td>\n",
       "      <td>56</td>\n",
       "      <td>2400.0</td>\n",
       "      <td>SI2</td>\n",
       "      <td>H</td>\n",
       "      <td>GOOD</td>\n",
       "    </tr>\n",
       "    <tr>\n",
       "      <th>13</th>\n",
       "      <td>0.40</td>\n",
       "      <td>4.8</td>\n",
       "      <td>4.7800</td>\n",
       "      <td>3.2150</td>\n",
       "      <td>62.4</td>\n",
       "      <td>58</td>\n",
       "      <td>2100.0</td>\n",
       "      <td>SI2</td>\n",
       "      <td>H</td>\n",
       "      <td>GOOD</td>\n",
       "    </tr>\n",
       "  </tbody>\n",
       "</table>\n",
       "</div>"
      ],
      "text/plain": [
       "    carat  x dimension  y dimension  z dimension  depth  table   price  \\\n",
       "2    0.35          4.5       4.4900       3.2150   62.3     56  2100.0   \n",
       "4    0.35          4.5       4.5200       3.0075   61.9     56  1300.0   \n",
       "10   0.40          4.7       5.4825       2.9200   62.1     56  2400.0   \n",
       "13   0.40          4.8       4.7800       3.2150   62.4     58  2100.0   \n",
       "\n",
       "   clarity color    cut  \n",
       "2       IF     D  IDEAL  \n",
       "4       IF     D  IDEAL  \n",
       "10     SI2     H   GOOD  \n",
       "13     SI2     H   GOOD  "
      ]
     },
     "execution_count": 1584,
     "metadata": {},
     "output_type": "execute_result"
    }
   ],
   "source": [
    "pos_duplicates = messy_data.duplicated(subset=[\"carat\", \"clarity\", \"color\", \"cut\"], keep=False)\n",
    "messy_data[pos_duplicates].sort_values(by=[\"clarity\", \"color\", \"cut\", \"carat\", \"x dimension\", \"y dimension\", \"z dimension\"])"
   ]
  },
  {
   "cell_type": "markdown",
   "metadata": {},
   "source": [
    "Wartości zostały posortowane, aby potencjalne duplikaty znajdowały się pod sobą.\n",
    "\n",
    "Wskazane wartości nie wykazują jawnych duplikatów."
   ]
  },
  {
   "cell_type": "markdown",
   "metadata": {},
   "source": [
    "Wartości odstające\n",
    "\n",
    "Kategorie zostały już znormalizowane, zatem pozostały dane liczbowe."
   ]
  },
  {
   "cell_type": "code",
   "execution_count": 1585,
   "metadata": {},
   "outputs": [
    {
     "data": {
      "text/html": [
       "<div>\n",
       "<style scoped>\n",
       "    .dataframe tbody tr th:only-of-type {\n",
       "        vertical-align: middle;\n",
       "    }\n",
       "\n",
       "    .dataframe tbody tr th {\n",
       "        vertical-align: top;\n",
       "    }\n",
       "\n",
       "    .dataframe thead th {\n",
       "        text-align: right;\n",
       "    }\n",
       "</style>\n",
       "<table border=\"1\" class=\"dataframe\">\n",
       "  <thead>\n",
       "    <tr style=\"text-align: right;\">\n",
       "      <th></th>\n",
       "      <th>carat</th>\n",
       "      <th>x dimension</th>\n",
       "      <th>y dimension</th>\n",
       "      <th>z dimension</th>\n",
       "      <th>depth</th>\n",
       "      <th>table</th>\n",
       "      <th>price</th>\n",
       "    </tr>\n",
       "  </thead>\n",
       "  <tbody>\n",
       "    <tr>\n",
       "      <th>count</th>\n",
       "      <td>150.000000</td>\n",
       "      <td>150.000000</td>\n",
       "      <td>150.000000</td>\n",
       "      <td>150.000000</td>\n",
       "      <td>150.000000</td>\n",
       "      <td>150.000000</td>\n",
       "      <td>150.000000</td>\n",
       "    </tr>\n",
       "    <tr>\n",
       "      <th>mean</th>\n",
       "      <td>0.799000</td>\n",
       "      <td>5.872500</td>\n",
       "      <td>5.853683</td>\n",
       "      <td>3.628367</td>\n",
       "      <td>62.221167</td>\n",
       "      <td>56.873333</td>\n",
       "      <td>10335.500000</td>\n",
       "    </tr>\n",
       "    <tr>\n",
       "      <th>std</th>\n",
       "      <td>0.321827</td>\n",
       "      <td>0.798624</td>\n",
       "      <td>0.688654</td>\n",
       "      <td>0.460312</td>\n",
       "      <td>0.306566</td>\n",
       "      <td>1.302020</td>\n",
       "      <td>36850.376237</td>\n",
       "    </tr>\n",
       "    <tr>\n",
       "      <th>min</th>\n",
       "      <td>0.200000</td>\n",
       "      <td>3.900000</td>\n",
       "      <td>3.890000</td>\n",
       "      <td>2.410000</td>\n",
       "      <td>61.200000</td>\n",
       "      <td>54.000000</td>\n",
       "      <td>500.000000</td>\n",
       "    </tr>\n",
       "    <tr>\n",
       "      <th>25%</th>\n",
       "      <td>0.512500</td>\n",
       "      <td>5.225000</td>\n",
       "      <td>5.434375</td>\n",
       "      <td>3.280000</td>\n",
       "      <td>62.031250</td>\n",
       "      <td>56.000000</td>\n",
       "      <td>2800.000000</td>\n",
       "    </tr>\n",
       "    <tr>\n",
       "      <th>50%</th>\n",
       "      <td>0.750000</td>\n",
       "      <td>5.800000</td>\n",
       "      <td>5.815000</td>\n",
       "      <td>3.575000</td>\n",
       "      <td>62.125000</td>\n",
       "      <td>57.000000</td>\n",
       "      <td>4300.000000</td>\n",
       "    </tr>\n",
       "    <tr>\n",
       "      <th>75%</th>\n",
       "      <td>1.050000</td>\n",
       "      <td>6.600000</td>\n",
       "      <td>6.378125</td>\n",
       "      <td>4.017500</td>\n",
       "      <td>62.475000</td>\n",
       "      <td>58.000000</td>\n",
       "      <td>9200.000000</td>\n",
       "    </tr>\n",
       "    <tr>\n",
       "      <th>max</th>\n",
       "      <td>1.600000</td>\n",
       "      <td>7.300000</td>\n",
       "      <td>7.280000</td>\n",
       "      <td>4.500000</td>\n",
       "      <td>63.000000</td>\n",
       "      <td>60.000000</td>\n",
       "      <td>350000.000000</td>\n",
       "    </tr>\n",
       "  </tbody>\n",
       "</table>\n",
       "</div>"
      ],
      "text/plain": [
       "            carat  x dimension  y dimension  z dimension       depth  \\\n",
       "count  150.000000   150.000000   150.000000   150.000000  150.000000   \n",
       "mean     0.799000     5.872500     5.853683     3.628367   62.221167   \n",
       "std      0.321827     0.798624     0.688654     0.460312    0.306566   \n",
       "min      0.200000     3.900000     3.890000     2.410000   61.200000   \n",
       "25%      0.512500     5.225000     5.434375     3.280000   62.031250   \n",
       "50%      0.750000     5.800000     5.815000     3.575000   62.125000   \n",
       "75%      1.050000     6.600000     6.378125     4.017500   62.475000   \n",
       "max      1.600000     7.300000     7.280000     4.500000   63.000000   \n",
       "\n",
       "            table          price  \n",
       "count  150.000000     150.000000  \n",
       "mean    56.873333   10335.500000  \n",
       "std      1.302020   36850.376237  \n",
       "min     54.000000     500.000000  \n",
       "25%     56.000000    2800.000000  \n",
       "50%     57.000000    4300.000000  \n",
       "75%     58.000000    9200.000000  \n",
       "max     60.000000  350000.000000  "
      ]
     },
     "execution_count": 1585,
     "metadata": {},
     "output_type": "execute_result"
    }
   ],
   "source": [
    "messy_data.describe()"
   ]
  },
  {
   "cell_type": "markdown",
   "metadata": {},
   "source": [
    "W kolumnie zawierającej ceny występuje niewiele bardzo wysokich wartości w porównaniu do pozostałych danych (75% vs max).\n",
    "Podobny przypadek można zaobserwować w kolumnie carat."
   ]
  },
  {
   "cell_type": "code",
   "execution_count": 1586,
   "metadata": {},
   "outputs": [
    {
     "data": {
      "text/html": [
       "<div>\n",
       "<style scoped>\n",
       "    .dataframe tbody tr th:only-of-type {\n",
       "        vertical-align: middle;\n",
       "    }\n",
       "\n",
       "    .dataframe tbody tr th {\n",
       "        vertical-align: top;\n",
       "    }\n",
       "\n",
       "    .dataframe thead th {\n",
       "        text-align: right;\n",
       "    }\n",
       "</style>\n",
       "<table border=\"1\" class=\"dataframe\">\n",
       "  <thead>\n",
       "    <tr style=\"text-align: right;\">\n",
       "      <th></th>\n",
       "      <th>carat</th>\n",
       "      <th>x dimension</th>\n",
       "      <th>y dimension</th>\n",
       "      <th>z dimension</th>\n",
       "      <th>depth</th>\n",
       "      <th>table</th>\n",
       "      <th>price</th>\n",
       "      <th>clarity</th>\n",
       "      <th>color</th>\n",
       "      <th>cut</th>\n",
       "    </tr>\n",
       "  </thead>\n",
       "  <tbody>\n",
       "    <tr>\n",
       "      <th>42</th>\n",
       "      <td>0.55</td>\n",
       "      <td>5.3</td>\n",
       "      <td>6.3500</td>\n",
       "      <td>3.28</td>\n",
       "      <td>62.30</td>\n",
       "      <td>57</td>\n",
       "      <td>150000.0</td>\n",
       "      <td>SI2</td>\n",
       "      <td>I</td>\n",
       "      <td>FAIR</td>\n",
       "    </tr>\n",
       "    <tr>\n",
       "      <th>98</th>\n",
       "      <td>0.90</td>\n",
       "      <td>6.3</td>\n",
       "      <td>6.3975</td>\n",
       "      <td>3.90</td>\n",
       "      <td>62.05</td>\n",
       "      <td>57</td>\n",
       "      <td>260000.0</td>\n",
       "      <td>VVS1</td>\n",
       "      <td>I</td>\n",
       "      <td>IDEAL</td>\n",
       "    </tr>\n",
       "    <tr>\n",
       "      <th>147</th>\n",
       "      <td>1.40</td>\n",
       "      <td>7.3</td>\n",
       "      <td>6.3500</td>\n",
       "      <td>4.50</td>\n",
       "      <td>62.60</td>\n",
       "      <td>59</td>\n",
       "      <td>350000.0</td>\n",
       "      <td>VVS2</td>\n",
       "      <td>H</td>\n",
       "      <td>GOOD</td>\n",
       "    </tr>\n",
       "  </tbody>\n",
       "</table>\n",
       "</div>"
      ],
      "text/plain": [
       "     carat  x dimension  y dimension  z dimension  depth  table     price  \\\n",
       "42    0.55          5.3       6.3500         3.28  62.30     57  150000.0   \n",
       "98    0.90          6.3       6.3975         3.90  62.05     57  260000.0   \n",
       "147   1.40          7.3       6.3500         4.50  62.60     59  350000.0   \n",
       "\n",
       "    clarity color    cut  \n",
       "42      SI2     I   FAIR  \n",
       "98     VVS1     I  IDEAL  \n",
       "147    VVS2     H   GOOD  "
      ]
     },
     "execution_count": 1586,
     "metadata": {},
     "output_type": "execute_result"
    }
   ],
   "source": [
    "from scipy import stats\n",
    "\n",
    "price_outliers = messy_data[np.abs(stats.zscore(messy_data[\"price\"])) > 2]\n",
    "price_outliers"
   ]
  },
  {
   "cell_type": "code",
   "execution_count": 1587,
   "metadata": {},
   "outputs": [],
   "source": [
    "messy_data.drop(price_outliers.index, inplace=True)"
   ]
  },
  {
   "cell_type": "code",
   "execution_count": 1588,
   "metadata": {},
   "outputs": [
    {
     "data": {
      "text/html": [
       "<div>\n",
       "<style scoped>\n",
       "    .dataframe tbody tr th:only-of-type {\n",
       "        vertical-align: middle;\n",
       "    }\n",
       "\n",
       "    .dataframe tbody tr th {\n",
       "        vertical-align: top;\n",
       "    }\n",
       "\n",
       "    .dataframe thead th {\n",
       "        text-align: right;\n",
       "    }\n",
       "</style>\n",
       "<table border=\"1\" class=\"dataframe\">\n",
       "  <thead>\n",
       "    <tr style=\"text-align: right;\">\n",
       "      <th></th>\n",
       "      <th>carat</th>\n",
       "      <th>x dimension</th>\n",
       "      <th>y dimension</th>\n",
       "      <th>z dimension</th>\n",
       "      <th>depth</th>\n",
       "      <th>table</th>\n",
       "      <th>price</th>\n",
       "      <th>clarity</th>\n",
       "      <th>color</th>\n",
       "      <th>cut</th>\n",
       "    </tr>\n",
       "  </thead>\n",
       "  <tbody>\n",
       "    <tr>\n",
       "      <th>149</th>\n",
       "      <td>1.6</td>\n",
       "      <td>7.3</td>\n",
       "      <td>7.28</td>\n",
       "      <td>4.50</td>\n",
       "      <td>62.025</td>\n",
       "      <td>54</td>\n",
       "      <td>3400.0</td>\n",
       "      <td>SI2</td>\n",
       "      <td>E</td>\n",
       "      <td>FAIR</td>\n",
       "    </tr>\n",
       "    <tr>\n",
       "      <th>148</th>\n",
       "      <td>1.5</td>\n",
       "      <td>7.2</td>\n",
       "      <td>7.18</td>\n",
       "      <td>4.09</td>\n",
       "      <td>62.700</td>\n",
       "      <td>59</td>\n",
       "      <td>10800.0</td>\n",
       "      <td>I1</td>\n",
       "      <td>I</td>\n",
       "      <td>PREMIUM</td>\n",
       "    </tr>\n",
       "  </tbody>\n",
       "</table>\n",
       "</div>"
      ],
      "text/plain": [
       "     carat  x dimension  y dimension  z dimension   depth  table    price  \\\n",
       "149    1.6          7.3         7.28         4.50  62.025     54   3400.0   \n",
       "148    1.5          7.2         7.18         4.09  62.700     59  10800.0   \n",
       "\n",
       "    clarity color      cut  \n",
       "149     SI2     E     FAIR  \n",
       "148      I1     I  PREMIUM  "
      ]
     },
     "execution_count": 1588,
     "metadata": {},
     "output_type": "execute_result"
    }
   ],
   "source": [
    "carat_outliers = messy_data[np.abs(stats.zscore(messy_data[\"carat\"])) > 2]\n",
    "carat_outliers"
   ]
  },
  {
   "cell_type": "code",
   "execution_count": 1589,
   "metadata": {},
   "outputs": [],
   "source": [
    "messy_data.drop(carat_outliers.index, inplace=True)"
   ]
  },
  {
   "cell_type": "code",
   "execution_count": 1590,
   "metadata": {},
   "outputs": [
    {
     "data": {
      "text/html": [
       "<div>\n",
       "<style scoped>\n",
       "    .dataframe tbody tr th:only-of-type {\n",
       "        vertical-align: middle;\n",
       "    }\n",
       "\n",
       "    .dataframe tbody tr th {\n",
       "        vertical-align: top;\n",
       "    }\n",
       "\n",
       "    .dataframe thead th {\n",
       "        text-align: right;\n",
       "    }\n",
       "</style>\n",
       "<table border=\"1\" class=\"dataframe\">\n",
       "  <thead>\n",
       "    <tr style=\"text-align: right;\">\n",
       "      <th></th>\n",
       "      <th>carat</th>\n",
       "      <th>x dimension</th>\n",
       "      <th>y dimension</th>\n",
       "      <th>z dimension</th>\n",
       "      <th>depth</th>\n",
       "      <th>table</th>\n",
       "      <th>price</th>\n",
       "      <th>clarity</th>\n",
       "      <th>color</th>\n",
       "      <th>cut</th>\n",
       "    </tr>\n",
       "  </thead>\n",
       "  <tbody>\n",
       "    <tr>\n",
       "      <th>0</th>\n",
       "      <td>0.2</td>\n",
       "      <td>3.9</td>\n",
       "      <td>3.89</td>\n",
       "      <td>2.41</td>\n",
       "      <td>62.1</td>\n",
       "      <td>56</td>\n",
       "      <td>500.0</td>\n",
       "      <td>IF</td>\n",
       "      <td>D</td>\n",
       "      <td>IDEAL</td>\n",
       "    </tr>\n",
       "  </tbody>\n",
       "</table>\n",
       "</div>"
      ],
      "text/plain": [
       "   carat  x dimension  y dimension  z dimension  depth  table  price clarity  \\\n",
       "0    0.2          3.9         3.89         2.41   62.1     56  500.0      IF   \n",
       "\n",
       "  color    cut  \n",
       "0     D  IDEAL  "
      ]
     },
     "execution_count": 1590,
     "metadata": {},
     "output_type": "execute_result"
    }
   ],
   "source": [
    "x_outliers = messy_data[np.abs(stats.zscore(messy_data[\"x dimension\"])) > 2]\n",
    "x_outliers"
   ]
  },
  {
   "cell_type": "code",
   "execution_count": 1591,
   "metadata": {},
   "outputs": [],
   "source": [
    "messy_data.drop(x_outliers.index, inplace=True)"
   ]
  },
  {
   "cell_type": "code",
   "execution_count": 1592,
   "metadata": {},
   "outputs": [
    {
     "data": {
      "text/html": [
       "<div>\n",
       "<style scoped>\n",
       "    .dataframe tbody tr th:only-of-type {\n",
       "        vertical-align: middle;\n",
       "    }\n",
       "\n",
       "    .dataframe tbody tr th {\n",
       "        vertical-align: top;\n",
       "    }\n",
       "\n",
       "    .dataframe thead th {\n",
       "        text-align: right;\n",
       "    }\n",
       "</style>\n",
       "<table border=\"1\" class=\"dataframe\">\n",
       "  <thead>\n",
       "    <tr style=\"text-align: right;\">\n",
       "      <th></th>\n",
       "      <th>carat</th>\n",
       "      <th>x dimension</th>\n",
       "      <th>y dimension</th>\n",
       "      <th>z dimension</th>\n",
       "      <th>depth</th>\n",
       "      <th>table</th>\n",
       "      <th>price</th>\n",
       "      <th>clarity</th>\n",
       "      <th>color</th>\n",
       "      <th>cut</th>\n",
       "    </tr>\n",
       "  </thead>\n",
       "  <tbody>\n",
       "    <tr>\n",
       "      <th>1</th>\n",
       "      <td>0.30</td>\n",
       "      <td>4.4</td>\n",
       "      <td>4.41</td>\n",
       "      <td>2.8475</td>\n",
       "      <td>62.1</td>\n",
       "      <td>55</td>\n",
       "      <td>600.0</td>\n",
       "      <td>VVS2</td>\n",
       "      <td>E</td>\n",
       "      <td>PREMIUM</td>\n",
       "    </tr>\n",
       "    <tr>\n",
       "      <th>3</th>\n",
       "      <td>0.35</td>\n",
       "      <td>4.5</td>\n",
       "      <td>4.52</td>\n",
       "      <td>2.7900</td>\n",
       "      <td>62.0</td>\n",
       "      <td>56</td>\n",
       "      <td>900.0</td>\n",
       "      <td>I1</td>\n",
       "      <td>J</td>\n",
       "      <td>FAIR</td>\n",
       "    </tr>\n",
       "    <tr>\n",
       "      <th>4</th>\n",
       "      <td>0.35</td>\n",
       "      <td>4.5</td>\n",
       "      <td>4.52</td>\n",
       "      <td>3.0075</td>\n",
       "      <td>61.9</td>\n",
       "      <td>56</td>\n",
       "      <td>1300.0</td>\n",
       "      <td>IF</td>\n",
       "      <td>D</td>\n",
       "      <td>IDEAL</td>\n",
       "    </tr>\n",
       "    <tr>\n",
       "      <th>2</th>\n",
       "      <td>0.35</td>\n",
       "      <td>4.5</td>\n",
       "      <td>4.49</td>\n",
       "      <td>3.2150</td>\n",
       "      <td>62.3</td>\n",
       "      <td>56</td>\n",
       "      <td>2100.0</td>\n",
       "      <td>IF</td>\n",
       "      <td>D</td>\n",
       "      <td>IDEAL</td>\n",
       "    </tr>\n",
       "  </tbody>\n",
       "</table>\n",
       "</div>"
      ],
      "text/plain": [
       "   carat  x dimension  y dimension  z dimension  depth  table   price clarity  \\\n",
       "1   0.30          4.4         4.41       2.8475   62.1     55   600.0    VVS2   \n",
       "3   0.35          4.5         4.52       2.7900   62.0     56   900.0      I1   \n",
       "4   0.35          4.5         4.52       3.0075   61.9     56  1300.0      IF   \n",
       "2   0.35          4.5         4.49       3.2150   62.3     56  2100.0      IF   \n",
       "\n",
       "  color      cut  \n",
       "1     E  PREMIUM  \n",
       "3     J     FAIR  \n",
       "4     D    IDEAL  \n",
       "2     D    IDEAL  "
      ]
     },
     "execution_count": 1592,
     "metadata": {},
     "output_type": "execute_result"
    }
   ],
   "source": [
    "y_outliers = messy_data[np.abs(stats.zscore(messy_data[\"y dimension\"])) > 2]\n",
    "y_outliers"
   ]
  },
  {
   "cell_type": "code",
   "execution_count": 1593,
   "metadata": {},
   "outputs": [],
   "source": [
    "messy_data.drop(y_outliers.index, inplace=True)"
   ]
  },
  {
   "cell_type": "code",
   "execution_count": 1594,
   "metadata": {},
   "outputs": [
    {
     "data": {
      "text/html": [
       "<div>\n",
       "<style scoped>\n",
       "    .dataframe tbody tr th:only-of-type {\n",
       "        vertical-align: middle;\n",
       "    }\n",
       "\n",
       "    .dataframe tbody tr th {\n",
       "        vertical-align: top;\n",
       "    }\n",
       "\n",
       "    .dataframe thead th {\n",
       "        text-align: right;\n",
       "    }\n",
       "</style>\n",
       "<table border=\"1\" class=\"dataframe\">\n",
       "  <thead>\n",
       "    <tr style=\"text-align: right;\">\n",
       "      <th></th>\n",
       "      <th>carat</th>\n",
       "      <th>x dimension</th>\n",
       "      <th>y dimension</th>\n",
       "      <th>z dimension</th>\n",
       "      <th>depth</th>\n",
       "      <th>table</th>\n",
       "      <th>price</th>\n",
       "      <th>clarity</th>\n",
       "      <th>color</th>\n",
       "      <th>cut</th>\n",
       "    </tr>\n",
       "  </thead>\n",
       "  <tbody>\n",
       "  </tbody>\n",
       "</table>\n",
       "</div>"
      ],
      "text/plain": [
       "Empty DataFrame\n",
       "Columns: [carat, x dimension, y dimension, z dimension, depth, table, price, clarity, color, cut]\n",
       "Index: []"
      ]
     },
     "execution_count": 1594,
     "metadata": {},
     "output_type": "execute_result"
    }
   ],
   "source": [
    "messy_data[np.abs(stats.zscore(messy_data[\"z dimension\"])) > 2]"
   ]
  },
  {
   "cell_type": "code",
   "execution_count": 1595,
   "metadata": {},
   "outputs": [],
   "source": [
    "messy_data.reset_index(drop=True, inplace=True)\n",
    "messy_data.sort_values(by=\"price\", inplace=True)"
   ]
  },
  {
   "cell_type": "code",
   "execution_count": 1596,
   "metadata": {},
   "outputs": [
    {
     "data": {
      "text/html": [
       "<div>\n",
       "<style scoped>\n",
       "    .dataframe tbody tr th:only-of-type {\n",
       "        vertical-align: middle;\n",
       "    }\n",
       "\n",
       "    .dataframe tbody tr th {\n",
       "        vertical-align: top;\n",
       "    }\n",
       "\n",
       "    .dataframe thead th {\n",
       "        text-align: right;\n",
       "    }\n",
       "</style>\n",
       "<table border=\"1\" class=\"dataframe\">\n",
       "  <thead>\n",
       "    <tr style=\"text-align: right;\">\n",
       "      <th></th>\n",
       "      <th>carat</th>\n",
       "      <th>x dimension</th>\n",
       "      <th>y dimension</th>\n",
       "      <th>z dimension</th>\n",
       "      <th>depth</th>\n",
       "      <th>table</th>\n",
       "      <th>price</th>\n",
       "    </tr>\n",
       "  </thead>\n",
       "  <tbody>\n",
       "    <tr>\n",
       "      <th>count</th>\n",
       "      <td>140.000000</td>\n",
       "      <td>140.000000</td>\n",
       "      <td>140.000000</td>\n",
       "      <td>140.000000</td>\n",
       "      <td>140.000000</td>\n",
       "      <td>140.000000</td>\n",
       "      <td>140.000000</td>\n",
       "    </tr>\n",
       "    <tr>\n",
       "      <th>mean</th>\n",
       "      <td>0.802500</td>\n",
       "      <td>5.897679</td>\n",
       "      <td>5.876179</td>\n",
       "      <td>3.640821</td>\n",
       "      <td>62.222143</td>\n",
       "      <td>56.900000</td>\n",
       "      <td>5505.178571</td>\n",
       "    </tr>\n",
       "    <tr>\n",
       "      <th>std</th>\n",
       "      <td>0.301693</td>\n",
       "      <td>0.743726</td>\n",
       "      <td>0.627043</td>\n",
       "      <td>0.434719</td>\n",
       "      <td>0.310127</td>\n",
       "      <td>1.282421</td>\n",
       "      <td>3150.047813</td>\n",
       "    </tr>\n",
       "    <tr>\n",
       "      <th>min</th>\n",
       "      <td>0.350000</td>\n",
       "      <td>4.600000</td>\n",
       "      <td>4.690000</td>\n",
       "      <td>2.850000</td>\n",
       "      <td>61.200000</td>\n",
       "      <td>54.000000</td>\n",
       "      <td>1100.000000</td>\n",
       "    </tr>\n",
       "    <tr>\n",
       "      <th>25%</th>\n",
       "      <td>0.550000</td>\n",
       "      <td>5.300000</td>\n",
       "      <td>5.488125</td>\n",
       "      <td>3.290000</td>\n",
       "      <td>62.043750</td>\n",
       "      <td>56.000000</td>\n",
       "      <td>2875.000000</td>\n",
       "    </tr>\n",
       "    <tr>\n",
       "      <th>50%</th>\n",
       "      <td>0.750000</td>\n",
       "      <td>5.800000</td>\n",
       "      <td>5.815000</td>\n",
       "      <td>3.585000</td>\n",
       "      <td>62.125000</td>\n",
       "      <td>57.000000</td>\n",
       "      <td>4350.000000</td>\n",
       "    </tr>\n",
       "    <tr>\n",
       "      <th>75%</th>\n",
       "      <td>1.050000</td>\n",
       "      <td>6.600000</td>\n",
       "      <td>6.374375</td>\n",
       "      <td>4.012500</td>\n",
       "      <td>62.500000</td>\n",
       "      <td>58.000000</td>\n",
       "      <td>9200.000000</td>\n",
       "    </tr>\n",
       "    <tr>\n",
       "      <th>max</th>\n",
       "      <td>1.400000</td>\n",
       "      <td>7.200000</td>\n",
       "      <td>7.120000</td>\n",
       "      <td>4.460000</td>\n",
       "      <td>63.000000</td>\n",
       "      <td>60.000000</td>\n",
       "      <td>12000.000000</td>\n",
       "    </tr>\n",
       "  </tbody>\n",
       "</table>\n",
       "</div>"
      ],
      "text/plain": [
       "            carat  x dimension  y dimension  z dimension       depth  \\\n",
       "count  140.000000   140.000000   140.000000   140.000000  140.000000   \n",
       "mean     0.802500     5.897679     5.876179     3.640821   62.222143   \n",
       "std      0.301693     0.743726     0.627043     0.434719    0.310127   \n",
       "min      0.350000     4.600000     4.690000     2.850000   61.200000   \n",
       "25%      0.550000     5.300000     5.488125     3.290000   62.043750   \n",
       "50%      0.750000     5.800000     5.815000     3.585000   62.125000   \n",
       "75%      1.050000     6.600000     6.374375     4.012500   62.500000   \n",
       "max      1.400000     7.200000     7.120000     4.460000   63.000000   \n",
       "\n",
       "            table         price  \n",
       "count  140.000000    140.000000  \n",
       "mean    56.900000   5505.178571  \n",
       "std      1.282421   3150.047813  \n",
       "min     54.000000   1100.000000  \n",
       "25%     56.000000   2875.000000  \n",
       "50%     57.000000   4350.000000  \n",
       "75%     58.000000   9200.000000  \n",
       "max     60.000000  12000.000000  "
      ]
     },
     "execution_count": 1596,
     "metadata": {},
     "output_type": "execute_result"
    }
   ],
   "source": [
    "messy_data.describe()"
   ]
  },
  {
   "cell_type": "markdown",
   "metadata": {},
   "source": [
    "Model regresji"
   ]
  },
  {
   "cell_type": "markdown",
   "metadata": {},
   "source": [
    "H0 - Cena nie jest zależna od liczby karatów\n",
    "\n",
    "Ha - Cena jest zależna od liczby karatów"
   ]
  },
  {
   "cell_type": "code",
   "execution_count": 1616,
   "metadata": {},
   "outputs": [
    {
     "name": "stdout",
     "output_type": "stream",
     "text": [
      "                            OLS Regression Results                            \n",
      "==============================================================================\n",
      "Dep. Variable:                  price   R-squared:                       0.928\n",
      "Model:                            OLS   Adj. R-squared:                  0.927\n",
      "Method:                 Least Squares   F-statistic:                     1767.\n",
      "Date:                Sun, 04 Feb 2024   Prob (F-statistic):           1.55e-80\n",
      "Time:                        00:51:41   Log-Likelihood:                -1142.1\n",
      "No. Observations:                 140   AIC:                             2288.\n",
      "Df Residuals:                     138   BIC:                             2294.\n",
      "Df Model:                           1                                         \n",
      "Covariance Type:            nonrobust                                         \n",
      "==============================================================================\n",
      "                 coef    std err          t      P>|t|      [0.025      0.975]\n",
      "------------------------------------------------------------------------------\n",
      "Intercept  -2564.6629    205.018    -12.509      0.000   -2970.045   -2159.281\n",
      "carat       1.006e+04    239.239     42.033      0.000    9582.829    1.05e+04\n",
      "==============================================================================\n",
      "Omnibus:                       57.359   Durbin-Watson:                   1.694\n",
      "Prob(Omnibus):                  0.000   Jarque-Bera (JB):              249.076\n",
      "Skew:                          -1.413   Prob(JB):                     8.20e-55\n",
      "Kurtosis:                       8.892   Cond. No.                         5.59\n",
      "==============================================================================\n",
      "\n",
      "Notes:\n",
      "[1] Standard Errors assume that the covariance matrix of the errors is correctly specified.\n"
     ]
    }
   ],
   "source": [
    "import statsmodels.formula.api as smf\n",
    "\n",
    "model = smf.ols(data=messy_data, formula=\"price ~ carat\").fit()\n",
    "print(model.summary())"
   ]
  },
  {
   "cell_type": "markdown",
   "metadata": {},
   "source": [
    "R^2 i adjusted-R^2 są bliskie 1, co oznacza, że związek między zmiennymi zachodzi.\n",
    "\n",
    "Odrzucam H0"
   ]
  },
  {
   "cell_type": "code",
   "execution_count": 1617,
   "metadata": {},
   "outputs": [
    {
     "data": {
      "application/vnd.plotly.v1+json": {
       "config": {
        "plotlyServerURL": "https://plot.ly"
       },
       "data": [
        {
         "mode": "markers",
         "name": "price vs carat",
         "type": "scatter",
         "x": [
          0.45,
          0.4,
          0.4,
          0.35,
          0.4,
          0.45,
          0.45,
          0.45,
          0.55,
          0.55,
          0.4,
          0.4,
          0.7,
          0.4,
          0.45,
          0.4,
          0.5,
          0.6,
          0.5,
          0.55,
          0.45,
          0.55,
          0.9,
          0.4,
          0.55,
          0.45,
          0.55,
          0.9,
          0.4,
          0.45,
          0.45,
          0.4,
          0.55,
          0.6,
          0.55,
          0.5,
          0.5,
          0.65,
          0.5,
          0.5,
          0.55,
          0.5,
          0.5,
          0.5,
          0.55,
          0.5,
          0.5,
          0.5,
          0.65,
          0.65,
          0.55,
          0.65,
          0.65,
          0.6,
          0.65,
          0.6,
          0.65,
          0.6,
          0.65,
          0.6,
          0.6,
          0.75,
          0.8,
          0.7,
          0.5,
          0.7,
          0.7,
          0.7,
          0.7,
          0.7,
          0.75,
          0.75,
          0.75,
          0.7,
          0.75,
          0.75,
          0.75,
          0.75,
          0.85,
          0.8,
          0.8,
          0.8,
          0.85,
          0.85,
          0.85,
          0.85,
          0.85,
          0.85,
          0.9,
          0.9,
          0.9,
          0.95,
          0.9,
          0.95,
          1.1,
          0.95,
          0.95,
          1.05,
          0.95,
          1.05,
          1.05,
          1,
          1,
          1.05,
          1.05,
          1.15,
          1.1,
          1.05,
          1.15,
          0.95,
          1.1,
          1.05,
          1.1,
          1.15,
          1.05,
          1.15,
          1.3,
          1.15,
          1.3,
          1.35,
          1.3,
          1.3,
          1.2,
          1.2,
          1.2,
          1.2,
          1.2,
          1.3,
          1.2,
          1.3,
          1.25,
          1.25,
          1.25,
          1.25,
          1.3,
          1.35,
          1.4,
          1.4,
          1.4,
          1.4
         ],
         "y": [
          1100,
          1400,
          1400,
          1400,
          1500,
          1500,
          1500,
          1700,
          1700,
          1800,
          1800,
          2000,
          2100,
          2100,
          2100,
          2200,
          2200,
          2200,
          2300,
          2300,
          2300,
          2300,
          2400,
          2400,
          2500,
          2500,
          2600,
          2600,
          2600,
          2600,
          2600,
          2700,
          2800,
          2800,
          2800,
          2900,
          2900,
          2900,
          3000,
          3000,
          3100,
          3100,
          3100,
          3100,
          3100,
          3200,
          3200,
          3200,
          3300,
          3300,
          3300,
          3300,
          3400,
          3400,
          3400,
          3500,
          3500,
          3600,
          3600,
          3600,
          3700,
          3800,
          4000,
          4000,
          4050,
          4100,
          4200,
          4200,
          4300,
          4300,
          4400,
          4400,
          4500,
          4500,
          4600,
          4600,
          4600,
          4700,
          4800,
          4900,
          5900,
          6300,
          6300,
          6400,
          6500,
          6500,
          6500,
          6600,
          6600,
          6700,
          6800,
          6800,
          6900,
          6900,
          7100,
          7100,
          7100,
          7300,
          7300,
          7400,
          7400,
          7500,
          8075,
          8500,
          9200,
          9200,
          9200,
          9300,
          9300,
          9400,
          9400,
          9500,
          9500,
          9600,
          9600,
          9800,
          9800,
          9800,
          9900,
          9900,
          9900,
          9900,
          10000,
          10100,
          10100,
          10100,
          10100,
          10200,
          10200,
          10300,
          10300,
          10400,
          10400,
          10500,
          10500,
          10700,
          11000,
          11200,
          11500,
          12000
         ]
        },
        {
         "name": "Fitted regression line",
         "type": "scatter",
         "x": [
          0.45,
          0.4,
          0.4,
          0.35,
          0.4,
          0.45,
          0.45,
          0.45,
          0.55,
          0.55,
          0.4,
          0.4,
          0.7,
          0.4,
          0.45,
          0.4,
          0.5,
          0.6,
          0.5,
          0.55,
          0.45,
          0.55,
          0.9,
          0.4,
          0.55,
          0.45,
          0.55,
          0.9,
          0.4,
          0.45,
          0.45,
          0.4,
          0.55,
          0.6,
          0.55,
          0.5,
          0.5,
          0.65,
          0.5,
          0.5,
          0.55,
          0.5,
          0.5,
          0.5,
          0.55,
          0.5,
          0.5,
          0.5,
          0.65,
          0.65,
          0.55,
          0.65,
          0.65,
          0.6,
          0.65,
          0.6,
          0.65,
          0.6,
          0.65,
          0.6,
          0.6,
          0.75,
          0.8,
          0.7,
          0.5,
          0.7,
          0.7,
          0.7,
          0.7,
          0.7,
          0.75,
          0.75,
          0.75,
          0.7,
          0.75,
          0.75,
          0.75,
          0.75,
          0.85,
          0.8,
          0.8,
          0.8,
          0.85,
          0.85,
          0.85,
          0.85,
          0.85,
          0.85,
          0.9,
          0.9,
          0.9,
          0.95,
          0.9,
          0.95,
          1.1,
          0.95,
          0.95,
          1.05,
          0.95,
          1.05,
          1.05,
          1,
          1,
          1.05,
          1.05,
          1.15,
          1.1,
          1.05,
          1.15,
          0.95,
          1.1,
          1.05,
          1.1,
          1.15,
          1.05,
          1.15,
          1.3,
          1.15,
          1.3,
          1.35,
          1.3,
          1.3,
          1.2,
          1.2,
          1.2,
          1.2,
          1.2,
          1.3,
          1.2,
          1.3,
          1.25,
          1.25,
          1.25,
          1.25,
          1.3,
          1.35,
          1.4,
          1.4,
          1.4,
          1.4
         ],
         "y": [
          1960.4818550976652,
          1457.687994625196,
          1457.687994625196,
          954.8941341527266,
          1457.687994625196,
          1960.4818550976652,
          1960.4818550976652,
          1960.4818550976652,
          2966.0695760426033,
          2966.0695760426033,
          1457.687994625196,
          1457.687994625196,
          4474.451157460009,
          1457.687994625196,
          1960.4818550976652,
          1457.687994625196,
          2463.275715570134,
          3468.863436515072,
          2463.275715570134,
          2966.0695760426033,
          1960.4818550976652,
          2966.0695760426033,
          6485.626599349886,
          1457.687994625196,
          2966.0695760426033,
          1960.4818550976652,
          2966.0695760426033,
          6485.626599349886,
          1457.687994625196,
          1960.4818550976652,
          1960.4818550976652,
          1457.687994625196,
          2966.0695760426033,
          3468.863436515072,
          2966.0695760426033,
          2463.275715570134,
          2463.275715570134,
          3971.6572969875406,
          2463.275715570134,
          2463.275715570134,
          2966.0695760426033,
          2463.275715570134,
          2463.275715570134,
          2463.275715570134,
          2966.0695760426033,
          2463.275715570134,
          2463.275715570134,
          2463.275715570134,
          3971.6572969875406,
          3971.6572969875406,
          2966.0695760426033,
          3971.6572969875406,
          3971.6572969875406,
          3468.863436515072,
          3971.6572969875406,
          3468.863436515072,
          3971.6572969875406,
          3468.863436515072,
          3971.6572969875406,
          3468.863436515072,
          3468.863436515072,
          4977.245017932479,
          5480.038878404948,
          4474.451157460009,
          2463.275715570134,
          4474.451157460009,
          4474.451157460009,
          4474.451157460009,
          4474.451157460009,
          4474.451157460009,
          4977.245017932479,
          4977.245017932479,
          4977.245017932479,
          4474.451157460009,
          4977.245017932479,
          4977.245017932479,
          4977.245017932479,
          4977.245017932479,
          5982.832738877417,
          5480.038878404948,
          5480.038878404948,
          5480.038878404948,
          5982.832738877417,
          5982.832738877417,
          5982.832738877417,
          5982.832738877417,
          5982.832738877417,
          5982.832738877417,
          6485.626599349886,
          6485.626599349886,
          6485.626599349886,
          6988.420459822354,
          6485.626599349886,
          6988.420459822354,
          8496.802041239764,
          6988.420459822354,
          6988.420459822354,
          7994.008180767293,
          6988.420459822354,
          7994.008180767293,
          7994.008180767293,
          7491.214320294824,
          7491.214320294824,
          7994.008180767293,
          7994.008180767293,
          8999.59590171223,
          8496.802041239764,
          7994.008180767293,
          8999.59590171223,
          6988.420459822354,
          8496.802041239764,
          7994.008180767293,
          8496.802041239764,
          8999.59590171223,
          7994.008180767293,
          8999.59590171223,
          10507.977483129638,
          8999.59590171223,
          10507.977483129638,
          11010.771343602108,
          10507.977483129638,
          10507.977483129638,
          9502.389762184699,
          9502.389762184699,
          9502.389762184699,
          9502.389762184699,
          9502.389762184699,
          10507.977483129638,
          9502.389762184699,
          10507.977483129638,
          10005.183622657169,
          10005.183622657169,
          10005.183622657169,
          10005.183622657169,
          10507.977483129638,
          11010.771343602108,
          11513.565204074574,
          11513.565204074574,
          11513.565204074574,
          11513.565204074574
         ]
        }
       ],
       "layout": {
        "template": {
         "data": {
          "bar": [
           {
            "error_x": {
             "color": "#2a3f5f"
            },
            "error_y": {
             "color": "#2a3f5f"
            },
            "marker": {
             "line": {
              "color": "#E5ECF6",
              "width": 0.5
             },
             "pattern": {
              "fillmode": "overlay",
              "size": 10,
              "solidity": 0.2
             }
            },
            "type": "bar"
           }
          ],
          "barpolar": [
           {
            "marker": {
             "line": {
              "color": "#E5ECF6",
              "width": 0.5
             },
             "pattern": {
              "fillmode": "overlay",
              "size": 10,
              "solidity": 0.2
             }
            },
            "type": "barpolar"
           }
          ],
          "carpet": [
           {
            "aaxis": {
             "endlinecolor": "#2a3f5f",
             "gridcolor": "white",
             "linecolor": "white",
             "minorgridcolor": "white",
             "startlinecolor": "#2a3f5f"
            },
            "baxis": {
             "endlinecolor": "#2a3f5f",
             "gridcolor": "white",
             "linecolor": "white",
             "minorgridcolor": "white",
             "startlinecolor": "#2a3f5f"
            },
            "type": "carpet"
           }
          ],
          "choropleth": [
           {
            "colorbar": {
             "outlinewidth": 0,
             "ticks": ""
            },
            "type": "choropleth"
           }
          ],
          "contour": [
           {
            "colorbar": {
             "outlinewidth": 0,
             "ticks": ""
            },
            "colorscale": [
             [
              0,
              "#0d0887"
             ],
             [
              0.1111111111111111,
              "#46039f"
             ],
             [
              0.2222222222222222,
              "#7201a8"
             ],
             [
              0.3333333333333333,
              "#9c179e"
             ],
             [
              0.4444444444444444,
              "#bd3786"
             ],
             [
              0.5555555555555556,
              "#d8576b"
             ],
             [
              0.6666666666666666,
              "#ed7953"
             ],
             [
              0.7777777777777778,
              "#fb9f3a"
             ],
             [
              0.8888888888888888,
              "#fdca26"
             ],
             [
              1,
              "#f0f921"
             ]
            ],
            "type": "contour"
           }
          ],
          "contourcarpet": [
           {
            "colorbar": {
             "outlinewidth": 0,
             "ticks": ""
            },
            "type": "contourcarpet"
           }
          ],
          "heatmap": [
           {
            "colorbar": {
             "outlinewidth": 0,
             "ticks": ""
            },
            "colorscale": [
             [
              0,
              "#0d0887"
             ],
             [
              0.1111111111111111,
              "#46039f"
             ],
             [
              0.2222222222222222,
              "#7201a8"
             ],
             [
              0.3333333333333333,
              "#9c179e"
             ],
             [
              0.4444444444444444,
              "#bd3786"
             ],
             [
              0.5555555555555556,
              "#d8576b"
             ],
             [
              0.6666666666666666,
              "#ed7953"
             ],
             [
              0.7777777777777778,
              "#fb9f3a"
             ],
             [
              0.8888888888888888,
              "#fdca26"
             ],
             [
              1,
              "#f0f921"
             ]
            ],
            "type": "heatmap"
           }
          ],
          "heatmapgl": [
           {
            "colorbar": {
             "outlinewidth": 0,
             "ticks": ""
            },
            "colorscale": [
             [
              0,
              "#0d0887"
             ],
             [
              0.1111111111111111,
              "#46039f"
             ],
             [
              0.2222222222222222,
              "#7201a8"
             ],
             [
              0.3333333333333333,
              "#9c179e"
             ],
             [
              0.4444444444444444,
              "#bd3786"
             ],
             [
              0.5555555555555556,
              "#d8576b"
             ],
             [
              0.6666666666666666,
              "#ed7953"
             ],
             [
              0.7777777777777778,
              "#fb9f3a"
             ],
             [
              0.8888888888888888,
              "#fdca26"
             ],
             [
              1,
              "#f0f921"
             ]
            ],
            "type": "heatmapgl"
           }
          ],
          "histogram": [
           {
            "marker": {
             "pattern": {
              "fillmode": "overlay",
              "size": 10,
              "solidity": 0.2
             }
            },
            "type": "histogram"
           }
          ],
          "histogram2d": [
           {
            "colorbar": {
             "outlinewidth": 0,
             "ticks": ""
            },
            "colorscale": [
             [
              0,
              "#0d0887"
             ],
             [
              0.1111111111111111,
              "#46039f"
             ],
             [
              0.2222222222222222,
              "#7201a8"
             ],
             [
              0.3333333333333333,
              "#9c179e"
             ],
             [
              0.4444444444444444,
              "#bd3786"
             ],
             [
              0.5555555555555556,
              "#d8576b"
             ],
             [
              0.6666666666666666,
              "#ed7953"
             ],
             [
              0.7777777777777778,
              "#fb9f3a"
             ],
             [
              0.8888888888888888,
              "#fdca26"
             ],
             [
              1,
              "#f0f921"
             ]
            ],
            "type": "histogram2d"
           }
          ],
          "histogram2dcontour": [
           {
            "colorbar": {
             "outlinewidth": 0,
             "ticks": ""
            },
            "colorscale": [
             [
              0,
              "#0d0887"
             ],
             [
              0.1111111111111111,
              "#46039f"
             ],
             [
              0.2222222222222222,
              "#7201a8"
             ],
             [
              0.3333333333333333,
              "#9c179e"
             ],
             [
              0.4444444444444444,
              "#bd3786"
             ],
             [
              0.5555555555555556,
              "#d8576b"
             ],
             [
              0.6666666666666666,
              "#ed7953"
             ],
             [
              0.7777777777777778,
              "#fb9f3a"
             ],
             [
              0.8888888888888888,
              "#fdca26"
             ],
             [
              1,
              "#f0f921"
             ]
            ],
            "type": "histogram2dcontour"
           }
          ],
          "mesh3d": [
           {
            "colorbar": {
             "outlinewidth": 0,
             "ticks": ""
            },
            "type": "mesh3d"
           }
          ],
          "parcoords": [
           {
            "line": {
             "colorbar": {
              "outlinewidth": 0,
              "ticks": ""
             }
            },
            "type": "parcoords"
           }
          ],
          "pie": [
           {
            "automargin": true,
            "type": "pie"
           }
          ],
          "scatter": [
           {
            "fillpattern": {
             "fillmode": "overlay",
             "size": 10,
             "solidity": 0.2
            },
            "type": "scatter"
           }
          ],
          "scatter3d": [
           {
            "line": {
             "colorbar": {
              "outlinewidth": 0,
              "ticks": ""
             }
            },
            "marker": {
             "colorbar": {
              "outlinewidth": 0,
              "ticks": ""
             }
            },
            "type": "scatter3d"
           }
          ],
          "scattercarpet": [
           {
            "marker": {
             "colorbar": {
              "outlinewidth": 0,
              "ticks": ""
             }
            },
            "type": "scattercarpet"
           }
          ],
          "scattergeo": [
           {
            "marker": {
             "colorbar": {
              "outlinewidth": 0,
              "ticks": ""
             }
            },
            "type": "scattergeo"
           }
          ],
          "scattergl": [
           {
            "marker": {
             "colorbar": {
              "outlinewidth": 0,
              "ticks": ""
             }
            },
            "type": "scattergl"
           }
          ],
          "scattermapbox": [
           {
            "marker": {
             "colorbar": {
              "outlinewidth": 0,
              "ticks": ""
             }
            },
            "type": "scattermapbox"
           }
          ],
          "scatterpolar": [
           {
            "marker": {
             "colorbar": {
              "outlinewidth": 0,
              "ticks": ""
             }
            },
            "type": "scatterpolar"
           }
          ],
          "scatterpolargl": [
           {
            "marker": {
             "colorbar": {
              "outlinewidth": 0,
              "ticks": ""
             }
            },
            "type": "scatterpolargl"
           }
          ],
          "scatterternary": [
           {
            "marker": {
             "colorbar": {
              "outlinewidth": 0,
              "ticks": ""
             }
            },
            "type": "scatterternary"
           }
          ],
          "surface": [
           {
            "colorbar": {
             "outlinewidth": 0,
             "ticks": ""
            },
            "colorscale": [
             [
              0,
              "#0d0887"
             ],
             [
              0.1111111111111111,
              "#46039f"
             ],
             [
              0.2222222222222222,
              "#7201a8"
             ],
             [
              0.3333333333333333,
              "#9c179e"
             ],
             [
              0.4444444444444444,
              "#bd3786"
             ],
             [
              0.5555555555555556,
              "#d8576b"
             ],
             [
              0.6666666666666666,
              "#ed7953"
             ],
             [
              0.7777777777777778,
              "#fb9f3a"
             ],
             [
              0.8888888888888888,
              "#fdca26"
             ],
             [
              1,
              "#f0f921"
             ]
            ],
            "type": "surface"
           }
          ],
          "table": [
           {
            "cells": {
             "fill": {
              "color": "#EBF0F8"
             },
             "line": {
              "color": "white"
             }
            },
            "header": {
             "fill": {
              "color": "#C8D4E3"
             },
             "line": {
              "color": "white"
             }
            },
            "type": "table"
           }
          ]
         },
         "layout": {
          "annotationdefaults": {
           "arrowcolor": "#2a3f5f",
           "arrowhead": 0,
           "arrowwidth": 1
          },
          "autotypenumbers": "strict",
          "coloraxis": {
           "colorbar": {
            "outlinewidth": 0,
            "ticks": ""
           }
          },
          "colorscale": {
           "diverging": [
            [
             0,
             "#8e0152"
            ],
            [
             0.1,
             "#c51b7d"
            ],
            [
             0.2,
             "#de77ae"
            ],
            [
             0.3,
             "#f1b6da"
            ],
            [
             0.4,
             "#fde0ef"
            ],
            [
             0.5,
             "#f7f7f7"
            ],
            [
             0.6,
             "#e6f5d0"
            ],
            [
             0.7,
             "#b8e186"
            ],
            [
             0.8,
             "#7fbc41"
            ],
            [
             0.9,
             "#4d9221"
            ],
            [
             1,
             "#276419"
            ]
           ],
           "sequential": [
            [
             0,
             "#0d0887"
            ],
            [
             0.1111111111111111,
             "#46039f"
            ],
            [
             0.2222222222222222,
             "#7201a8"
            ],
            [
             0.3333333333333333,
             "#9c179e"
            ],
            [
             0.4444444444444444,
             "#bd3786"
            ],
            [
             0.5555555555555556,
             "#d8576b"
            ],
            [
             0.6666666666666666,
             "#ed7953"
            ],
            [
             0.7777777777777778,
             "#fb9f3a"
            ],
            [
             0.8888888888888888,
             "#fdca26"
            ],
            [
             1,
             "#f0f921"
            ]
           ],
           "sequentialminus": [
            [
             0,
             "#0d0887"
            ],
            [
             0.1111111111111111,
             "#46039f"
            ],
            [
             0.2222222222222222,
             "#7201a8"
            ],
            [
             0.3333333333333333,
             "#9c179e"
            ],
            [
             0.4444444444444444,
             "#bd3786"
            ],
            [
             0.5555555555555556,
             "#d8576b"
            ],
            [
             0.6666666666666666,
             "#ed7953"
            ],
            [
             0.7777777777777778,
             "#fb9f3a"
            ],
            [
             0.8888888888888888,
             "#fdca26"
            ],
            [
             1,
             "#f0f921"
            ]
           ]
          },
          "colorway": [
           "#636efa",
           "#EF553B",
           "#00cc96",
           "#ab63fa",
           "#FFA15A",
           "#19d3f3",
           "#FF6692",
           "#B6E880",
           "#FF97FF",
           "#FECB52"
          ],
          "font": {
           "color": "#2a3f5f"
          },
          "geo": {
           "bgcolor": "white",
           "lakecolor": "white",
           "landcolor": "#E5ECF6",
           "showlakes": true,
           "showland": true,
           "subunitcolor": "white"
          },
          "hoverlabel": {
           "align": "left"
          },
          "hovermode": "closest",
          "mapbox": {
           "style": "light"
          },
          "paper_bgcolor": "white",
          "plot_bgcolor": "#E5ECF6",
          "polar": {
           "angularaxis": {
            "gridcolor": "white",
            "linecolor": "white",
            "ticks": ""
           },
           "bgcolor": "#E5ECF6",
           "radialaxis": {
            "gridcolor": "white",
            "linecolor": "white",
            "ticks": ""
           }
          },
          "scene": {
           "xaxis": {
            "backgroundcolor": "#E5ECF6",
            "gridcolor": "white",
            "gridwidth": 2,
            "linecolor": "white",
            "showbackground": true,
            "ticks": "",
            "zerolinecolor": "white"
           },
           "yaxis": {
            "backgroundcolor": "#E5ECF6",
            "gridcolor": "white",
            "gridwidth": 2,
            "linecolor": "white",
            "showbackground": true,
            "ticks": "",
            "zerolinecolor": "white"
           },
           "zaxis": {
            "backgroundcolor": "#E5ECF6",
            "gridcolor": "white",
            "gridwidth": 2,
            "linecolor": "white",
            "showbackground": true,
            "ticks": "",
            "zerolinecolor": "white"
           }
          },
          "shapedefaults": {
           "line": {
            "color": "#2a3f5f"
           }
          },
          "ternary": {
           "aaxis": {
            "gridcolor": "white",
            "linecolor": "white",
            "ticks": ""
           },
           "baxis": {
            "gridcolor": "white",
            "linecolor": "white",
            "ticks": ""
           },
           "bgcolor": "#E5ECF6",
           "caxis": {
            "gridcolor": "white",
            "linecolor": "white",
            "ticks": ""
           }
          },
          "title": {
           "x": 0.05
          },
          "xaxis": {
           "automargin": true,
           "gridcolor": "white",
           "linecolor": "white",
           "ticks": "",
           "title": {
            "standoff": 15
           },
           "zerolinecolor": "white",
           "zerolinewidth": 2
          },
          "yaxis": {
           "automargin": true,
           "gridcolor": "white",
           "linecolor": "white",
           "ticks": "",
           "title": {
            "standoff": 15
           },
           "zerolinecolor": "white",
           "zerolinewidth": 2
          }
         }
        },
        "title": {
         "text": "Regression line of price vs carat"
        },
        "xaxis": {
         "title": {
          "text": "Price"
         }
        }
       }
      }
     },
     "metadata": {},
     "output_type": "display_data"
    },
    {
     "data": {
      "text/html": [
       "<div>\n",
       "<style scoped>\n",
       "    .dataframe tbody tr th:only-of-type {\n",
       "        vertical-align: middle;\n",
       "    }\n",
       "\n",
       "    .dataframe tbody tr th {\n",
       "        vertical-align: top;\n",
       "    }\n",
       "\n",
       "    .dataframe thead th {\n",
       "        text-align: right;\n",
       "    }\n",
       "</style>\n",
       "<table border=\"1\" class=\"dataframe\">\n",
       "  <thead>\n",
       "    <tr style=\"text-align: right;\">\n",
       "      <th></th>\n",
       "      <th>carat</th>\n",
       "      <th>x dimension</th>\n",
       "      <th>y dimension</th>\n",
       "      <th>z dimension</th>\n",
       "      <th>depth</th>\n",
       "      <th>table</th>\n",
       "      <th>price</th>\n",
       "      <th>clarity</th>\n",
       "      <th>color</th>\n",
       "      <th>cut</th>\n",
       "      <th>fitted</th>\n",
       "    </tr>\n",
       "  </thead>\n",
       "  <tbody>\n",
       "    <tr>\n",
       "      <th>0</th>\n",
       "      <td>0.45</td>\n",
       "      <td>4.8</td>\n",
       "      <td>4.8100</td>\n",
       "      <td>2.9800</td>\n",
       "      <td>61.8</td>\n",
       "      <td>54</td>\n",
       "      <td>1100.0</td>\n",
       "      <td>I1</td>\n",
       "      <td>I</td>\n",
       "      <td>FAIR</td>\n",
       "      <td>1960.481855</td>\n",
       "    </tr>\n",
       "    <tr>\n",
       "      <th>1</th>\n",
       "      <td>0.40</td>\n",
       "      <td>4.9</td>\n",
       "      <td>4.8800</td>\n",
       "      <td>3.0075</td>\n",
       "      <td>61.2</td>\n",
       "      <td>56</td>\n",
       "      <td>1400.0</td>\n",
       "      <td>SI1</td>\n",
       "      <td>G</td>\n",
       "      <td>PREMIUM</td>\n",
       "      <td>1457.687995</td>\n",
       "    </tr>\n",
       "    <tr>\n",
       "      <th>2</th>\n",
       "      <td>0.40</td>\n",
       "      <td>4.8</td>\n",
       "      <td>4.7800</td>\n",
       "      <td>2.9600</td>\n",
       "      <td>62.2</td>\n",
       "      <td>57</td>\n",
       "      <td>1400.0</td>\n",
       "      <td>IF</td>\n",
       "      <td>D</td>\n",
       "      <td>IDEAL</td>\n",
       "      <td>1457.687995</td>\n",
       "    </tr>\n",
       "    <tr>\n",
       "      <th>3</th>\n",
       "      <td>0.35</td>\n",
       "      <td>4.6</td>\n",
       "      <td>5.3400</td>\n",
       "      <td>2.8500</td>\n",
       "      <td>62.0</td>\n",
       "      <td>57</td>\n",
       "      <td>1400.0</td>\n",
       "      <td>VVS1</td>\n",
       "      <td>F</td>\n",
       "      <td>GOOD</td>\n",
       "      <td>954.894134</td>\n",
       "    </tr>\n",
       "    <tr>\n",
       "      <th>4</th>\n",
       "      <td>0.40</td>\n",
       "      <td>4.8</td>\n",
       "      <td>4.7900</td>\n",
       "      <td>2.9500</td>\n",
       "      <td>61.9</td>\n",
       "      <td>57</td>\n",
       "      <td>1500.0</td>\n",
       "      <td>I1</td>\n",
       "      <td>J</td>\n",
       "      <td>FAIR</td>\n",
       "      <td>1457.687995</td>\n",
       "    </tr>\n",
       "    <tr>\n",
       "      <th>...</th>\n",
       "      <td>...</td>\n",
       "      <td>...</td>\n",
       "      <td>...</td>\n",
       "      <td>...</td>\n",
       "      <td>...</td>\n",
       "      <td>...</td>\n",
       "      <td>...</td>\n",
       "      <td>...</td>\n",
       "      <td>...</td>\n",
       "      <td>...</td>\n",
       "      <td>...</td>\n",
       "    </tr>\n",
       "    <tr>\n",
       "      <th>135</th>\n",
       "      <td>1.35</td>\n",
       "      <td>7.2</td>\n",
       "      <td>6.4475</td>\n",
       "      <td>4.4600</td>\n",
       "      <td>62.8</td>\n",
       "      <td>57</td>\n",
       "      <td>10700.0</td>\n",
       "      <td>SI2</td>\n",
       "      <td>F</td>\n",
       "      <td>VERY GOOD</td>\n",
       "      <td>11010.771344</td>\n",
       "    </tr>\n",
       "    <tr>\n",
       "      <th>136</th>\n",
       "      <td>1.40</td>\n",
       "      <td>7.1</td>\n",
       "      <td>7.1200</td>\n",
       "      <td>4.1150</td>\n",
       "      <td>62.4</td>\n",
       "      <td>59</td>\n",
       "      <td>11000.0</td>\n",
       "      <td>VVS1</td>\n",
       "      <td>G</td>\n",
       "      <td>PREMIUM</td>\n",
       "      <td>11513.565204</td>\n",
       "    </tr>\n",
       "    <tr>\n",
       "      <th>137</th>\n",
       "      <td>1.40</td>\n",
       "      <td>7.1</td>\n",
       "      <td>6.5000</td>\n",
       "      <td>4.3900</td>\n",
       "      <td>62.7</td>\n",
       "      <td>59</td>\n",
       "      <td>11200.0</td>\n",
       "      <td>SI2</td>\n",
       "      <td>H</td>\n",
       "      <td>FAIR</td>\n",
       "      <td>11513.565204</td>\n",
       "    </tr>\n",
       "    <tr>\n",
       "      <th>138</th>\n",
       "      <td>1.40</td>\n",
       "      <td>7.1</td>\n",
       "      <td>6.5000</td>\n",
       "      <td>4.4000</td>\n",
       "      <td>62.7</td>\n",
       "      <td>58</td>\n",
       "      <td>11500.0</td>\n",
       "      <td>SI1</td>\n",
       "      <td>G</td>\n",
       "      <td>IDEAL</td>\n",
       "      <td>11513.565204</td>\n",
       "    </tr>\n",
       "    <tr>\n",
       "      <th>139</th>\n",
       "      <td>1.40</td>\n",
       "      <td>7.2</td>\n",
       "      <td>6.5000</td>\n",
       "      <td>4.4500</td>\n",
       "      <td>62.7</td>\n",
       "      <td>58</td>\n",
       "      <td>12000.0</td>\n",
       "      <td>SI1</td>\n",
       "      <td>F</td>\n",
       "      <td>VERY GOOD</td>\n",
       "      <td>11513.565204</td>\n",
       "    </tr>\n",
       "  </tbody>\n",
       "</table>\n",
       "<p>140 rows × 11 columns</p>\n",
       "</div>"
      ],
      "text/plain": [
       "     carat  x dimension  y dimension  z dimension  depth  table    price  \\\n",
       "0     0.45          4.8       4.8100       2.9800   61.8     54   1100.0   \n",
       "1     0.40          4.9       4.8800       3.0075   61.2     56   1400.0   \n",
       "2     0.40          4.8       4.7800       2.9600   62.2     57   1400.0   \n",
       "3     0.35          4.6       5.3400       2.8500   62.0     57   1400.0   \n",
       "4     0.40          4.8       4.7900       2.9500   61.9     57   1500.0   \n",
       "..     ...          ...          ...          ...    ...    ...      ...   \n",
       "135   1.35          7.2       6.4475       4.4600   62.8     57  10700.0   \n",
       "136   1.40          7.1       7.1200       4.1150   62.4     59  11000.0   \n",
       "137   1.40          7.1       6.5000       4.3900   62.7     59  11200.0   \n",
       "138   1.40          7.1       6.5000       4.4000   62.7     58  11500.0   \n",
       "139   1.40          7.2       6.5000       4.4500   62.7     58  12000.0   \n",
       "\n",
       "    clarity color        cut        fitted  \n",
       "0        I1     I       FAIR   1960.481855  \n",
       "1       SI1     G    PREMIUM   1457.687995  \n",
       "2        IF     D      IDEAL   1457.687995  \n",
       "3      VVS1     F       GOOD    954.894134  \n",
       "4        I1     J       FAIR   1457.687995  \n",
       "..      ...   ...        ...           ...  \n",
       "135     SI2     F  VERY GOOD  11010.771344  \n",
       "136    VVS1     G    PREMIUM  11513.565204  \n",
       "137     SI2     H       FAIR  11513.565204  \n",
       "138     SI1     G      IDEAL  11513.565204  \n",
       "139     SI1     F  VERY GOOD  11513.565204  \n",
       "\n",
       "[140 rows x 11 columns]"
      ]
     },
     "execution_count": 1617,
     "metadata": {},
     "output_type": "execute_result"
    }
   ],
   "source": [
    "import plotly.graph_objects as go\n",
    "\n",
    "messy_data[\"fitted\"] = model.fittedvalues\n",
    "\n",
    "fig2 = go.Figure()\n",
    "fig2.add_trace(go.Scatter(x=messy_data[\"carat\"], y=messy_data[\"price\"], name=\"price vs carat\", mode=\"markers\"))\n",
    "fig2.add_trace(go.Scatter(x=messy_data[\"carat\"], y=messy_data[\"fitted\"], name=\"Fitted regression line\"))\n",
    "fig2.update_layout(title=\"Regression line of price vs carat\", xaxis_title=\"Price\")\n",
    "fig2.show()\n",
    "messy_data"
   ]
  },
  {
   "cell_type": "code",
   "execution_count": 1618,
   "metadata": {},
   "outputs": [
    {
     "name": "stdout",
     "output_type": "stream",
     "text": [
      "                            OLS Regression Results                            \n",
      "==============================================================================\n",
      "Dep. Variable:                  price   R-squared:                       0.932\n",
      "Model:                            OLS   Adj. R-squared:                  0.930\n",
      "Method:                 Least Squares   F-statistic:                     464.6\n",
      "Date:                Sun, 04 Feb 2024   Prob (F-statistic):           7.60e-78\n",
      "Time:                        00:51:41   Log-Likelihood:                -1137.4\n",
      "No. Observations:                 140   AIC:                             2285.\n",
      "Df Residuals:                     135   BIC:                             2300.\n",
      "Df Model:                           4                                         \n",
      "Covariance Type:            nonrobust                                         \n",
      "====================================================================================\n",
      "                       coef    std err          t      P>|t|      [0.025      0.975]\n",
      "------------------------------------------------------------------------------------\n",
      "Intercept        -8050.7613   2213.912     -3.636      0.000   -1.24e+04   -3672.324\n",
      "carat             7321.9506   1323.583      5.532      0.000    4704.311    9939.590\n",
      "Q('x dimension')  -261.4664    686.073     -0.381      0.704   -1618.307    1095.374\n",
      "Q('y dimension')   495.5228    341.335      1.452      0.149    -179.534    1170.579\n",
      "Q('z dimension')  1733.2186    747.887      2.317      0.022     254.127    3212.310\n",
      "==============================================================================\n",
      "Omnibus:                       57.147   Durbin-Watson:                   1.809\n",
      "Prob(Omnibus):                  0.000   Jarque-Bera (JB):              252.576\n",
      "Skew:                          -1.399   Prob(JB):                     1.42e-55\n",
      "Kurtosis:                       8.955   Cond. No.                         340.\n",
      "==============================================================================\n",
      "\n",
      "Notes:\n",
      "[1] Standard Errors assume that the covariance matrix of the errors is correctly specified.\n"
     ]
    }
   ],
   "source": [
    "from patsy.builtins import *\n",
    "model2 = smf.ols(data=messy_data, formula=\"price ~ carat + Q('x dimension') + Q('y dimension') + Q('z dimension')\").fit()\n",
    "print(model2.summary())"
   ]
  },
  {
   "cell_type": "markdown",
   "metadata": {},
   "source": [
    "wymiary w osiach x, y mają p > 0,05, zatem nie są znaczące"
   ]
  },
  {
   "cell_type": "code",
   "execution_count": 1619,
   "metadata": {},
   "outputs": [
    {
     "name": "stdout",
     "output_type": "stream",
     "text": [
      "                            OLS Regression Results                            \n",
      "==============================================================================\n",
      "Dep. Variable:                  price   R-squared:                       0.898\n",
      "Model:                            OLS   Adj. R-squared:                  0.897\n",
      "Method:                 Least Squares   F-statistic:                     1215.\n",
      "Date:                Sun, 04 Feb 2024   Prob (F-statistic):           2.85e-70\n",
      "Time:                        00:51:41   Log-Likelihood:                -1166.1\n",
      "No. Observations:                 140   AIC:                             2336.\n",
      "Df Residuals:                     138   BIC:                             2342.\n",
      "Df Model:                           1                                         \n",
      "Covariance Type:            nonrobust                                         \n",
      "====================================================================================\n",
      "                       coef    std err          t      P>|t|      [0.025      0.975]\n",
      "------------------------------------------------------------------------------------\n",
      "Intercept        -1.949e+04    722.400    -26.986      0.000   -2.09e+04   -1.81e+04\n",
      "Q('z dimension')  6866.5696    197.027     34.851      0.000    6476.987    7256.152\n",
      "==============================================================================\n",
      "Omnibus:                       13.652   Durbin-Watson:                   1.752\n",
      "Prob(Omnibus):                  0.001   Jarque-Bera (JB):               26.982\n",
      "Skew:                          -0.392   Prob(JB):                     1.38e-06\n",
      "Kurtosis:                       5.003   Cond. No.                         33.3\n",
      "==============================================================================\n",
      "\n",
      "Notes:\n",
      "[1] Standard Errors assume that the covariance matrix of the errors is correctly specified.\n"
     ]
    }
   ],
   "source": [
    "model2 = smf.ols(data=messy_data, formula=\"price ~ Q('z dimension')\").fit()\n",
    "print(model2.summary())"
   ]
  },
  {
   "cell_type": "code",
   "execution_count": 1620,
   "metadata": {},
   "outputs": [
    {
     "data": {
      "application/vnd.plotly.v1+json": {
       "config": {
        "plotlyServerURL": "https://plot.ly"
       },
       "data": [
        {
         "mode": "markers",
         "name": "price vs z dimension",
         "type": "scatter",
         "x": [
          2.98,
          3.0075,
          2.96,
          2.85,
          2.95,
          2.97,
          3.01,
          3.105,
          3.29,
          3.08,
          2.91,
          2.91,
          3.57,
          3.2150000000000003,
          3.215,
          3.235,
          3.17,
          3.215,
          3.2,
          3.28,
          3.2425,
          3.28,
          3.7,
          2.92,
          3.35,
          3.125,
          3.35,
          3.78,
          2.91,
          3.02,
          3.03,
          2.96,
          3.33,
          3.21,
          3.34,
          3.2925,
          3.3025,
          3.47,
          3.16,
          3.2,
          3.29,
          3.22,
          3.22,
          3.2,
          3.2350000000000003,
          3.3,
          3.4050000000000002,
          3.3425000000000002,
          3.48,
          3.46,
          3.4050000000000002,
          3.47,
          3.47,
          3.6475,
          3.41,
          3.42,
          3.47,
          3.3775,
          3.3925,
          3.41,
          3.48,
          3.4074999999999998,
          3.4475,
          3.53,
          3.21,
          3.53,
          3.58,
          3.52,
          3.54,
          3.59,
          3.5225,
          3.65,
          3.64,
          3.52,
          3.59,
          3.66,
          3.5250000000000004,
          3.65,
          3.56,
          3.72,
          3.72,
          3.72,
          3.78,
          3.78,
          3.78,
          3.73,
          3.6249999999999996,
          3.84,
          3.6575,
          3.85,
          3.84,
          3.92,
          3.9,
          3.97,
          3.76,
          3.96,
          3.96,
          3.835,
          3.91,
          4.08,
          4.14,
          4,
          3.83,
          3.8850000000000002,
          4.11,
          4.14,
          4.08,
          4.09,
          4.21,
          3.9,
          4.21,
          4.13,
          4.15,
          4.27,
          4.09,
          4.23,
          4.33,
          4.02,
          4.26,
          4.4,
          4.0525,
          4.34,
          4.2,
          4.27,
          3.9725,
          4.21,
          4.2,
          4.33,
          4.2,
          4.39,
          4.21,
          4.27,
          4.26,
          4.01,
          4.3,
          4.46,
          4.115,
          4.39,
          4.4,
          4.45
         ],
         "y": [
          1100,
          1400,
          1400,
          1400,
          1500,
          1500,
          1500,
          1700,
          1700,
          1800,
          1800,
          2000,
          2100,
          2100,
          2100,
          2200,
          2200,
          2200,
          2300,
          2300,
          2300,
          2300,
          2400,
          2400,
          2500,
          2500,
          2600,
          2600,
          2600,
          2600,
          2600,
          2700,
          2800,
          2800,
          2800,
          2900,
          2900,
          2900,
          3000,
          3000,
          3100,
          3100,
          3100,
          3100,
          3100,
          3200,
          3200,
          3200,
          3300,
          3300,
          3300,
          3300,
          3400,
          3400,
          3400,
          3500,
          3500,
          3600,
          3600,
          3600,
          3700,
          3800,
          4000,
          4000,
          4050,
          4100,
          4200,
          4200,
          4300,
          4300,
          4400,
          4400,
          4500,
          4500,
          4600,
          4600,
          4600,
          4700,
          4800,
          4900,
          5900,
          6300,
          6300,
          6400,
          6500,
          6500,
          6500,
          6600,
          6600,
          6700,
          6800,
          6800,
          6900,
          6900,
          7100,
          7100,
          7100,
          7300,
          7300,
          7400,
          7400,
          7500,
          8075,
          8500,
          9200,
          9200,
          9200,
          9300,
          9300,
          9400,
          9400,
          9500,
          9500,
          9600,
          9600,
          9800,
          9800,
          9800,
          9900,
          9900,
          9900,
          9900,
          10000,
          10100,
          10100,
          10100,
          10100,
          10200,
          10200,
          10300,
          10300,
          10400,
          10400,
          10500,
          10500,
          10700,
          11000,
          11200,
          11500,
          12000
         ]
        },
        {
         "name": "Fitted regression line",
         "type": "scatter",
         "x": [
          2.98,
          3.0075,
          2.96,
          2.85,
          2.95,
          2.97,
          3.01,
          3.105,
          3.29,
          3.08,
          2.91,
          2.91,
          3.57,
          3.2150000000000003,
          3.215,
          3.235,
          3.17,
          3.215,
          3.2,
          3.28,
          3.2425,
          3.28,
          3.7,
          2.92,
          3.35,
          3.125,
          3.35,
          3.78,
          2.91,
          3.02,
          3.03,
          2.96,
          3.33,
          3.21,
          3.34,
          3.2925,
          3.3025,
          3.47,
          3.16,
          3.2,
          3.29,
          3.22,
          3.22,
          3.2,
          3.2350000000000003,
          3.3,
          3.4050000000000002,
          3.3425000000000002,
          3.48,
          3.46,
          3.4050000000000002,
          3.47,
          3.47,
          3.6475,
          3.41,
          3.42,
          3.47,
          3.3775,
          3.3925,
          3.41,
          3.48,
          3.4074999999999998,
          3.4475,
          3.53,
          3.21,
          3.53,
          3.58,
          3.52,
          3.54,
          3.59,
          3.5225,
          3.65,
          3.64,
          3.52,
          3.59,
          3.66,
          3.5250000000000004,
          3.65,
          3.56,
          3.72,
          3.72,
          3.72,
          3.78,
          3.78,
          3.78,
          3.73,
          3.6249999999999996,
          3.84,
          3.6575,
          3.85,
          3.84,
          3.92,
          3.9,
          3.97,
          3.76,
          3.96,
          3.96,
          3.835,
          3.91,
          4.08,
          4.14,
          4,
          3.83,
          3.8850000000000002,
          4.11,
          4.14,
          4.08,
          4.09,
          4.21,
          3.9,
          4.21,
          4.13,
          4.15,
          4.27,
          4.09,
          4.23,
          4.33,
          4.02,
          4.26,
          4.4,
          4.0525,
          4.34,
          4.2,
          4.27,
          3.9725,
          4.21,
          4.2,
          4.33,
          4.2,
          4.39,
          4.21,
          4.27,
          4.26,
          4.01,
          4.3,
          4.46,
          4.115,
          4.39,
          4.4,
          4.45
         ],
         "y": [
          967.6022708478595,
          1156.432933521326,
          830.2708798126114,
          74.94822911874871,
          761.6051842949892,
          898.9365753302372,
          1173.5993574007298,
          1825.9234648181591,
          3096.2388318942067,
          1654.2592260241,
          486.942402224493,
          486.942402224493,
          5018.878306387676,
          2581.2461155120254,
          2581.246115512022,
          2718.5775065472735,
          2272.2504856827145,
          2581.246115512022,
          2478.2475722355884,
          3027.573136376581,
          2770.076778185492,
          3027.573136376581,
          5911.532348116791,
          555.6080977421152,
          3508.233004999951,
          1963.2548558534072,
          3508.233004999951,
          6460.857912257783,
          486.942402224493,
          1242.2650529183557,
          1310.9307484359779,
          830.2708798126114,
          3370.901613964703,
          2546.9132677532107,
          3439.567309482325,
          3113.4052557736104,
          3182.0709512912363,
          4332.2213512114395,
          2203.5847901650923,
          2478.2475722355884,
          3096.2388318942067,
          2615.5789632708365,
          2615.5789632708365,
          2478.2475722355884,
          2718.5775065472735,
          3164.904527411829,
          3885.894330346884,
          3456.7337333617324,
          4400.887046729062,
          4263.555655693814,
          3885.894330346884,
          4332.2213512114395,
          4332.2213512114395,
          5551.037446649265,
          3920.227178105695,
          3988.8928736233174,
          4332.2213512114395,
          3697.063667673414,
          3800.062210949851,
          3920.227178105695,
          4400.887046729062,
          3903.060754226284,
          4177.72353629678,
          4744.21552431718,
          2546.9132677532107,
          4744.21552431718,
          5087.544001905302,
          4675.549828799558,
          4812.881219834806,
          5156.209697422924,
          4692.716252678965,
          5568.203870528669,
          5499.538175011046,
          4675.549828799558,
          5156.209697422924,
          5636.8695660462945,
          4709.882676558373,
          5568.203870528669,
          4950.212610870054,
          6048.863739152039,
          6048.863739152039,
          6048.863739152039,
          6460.857912257783,
          6460.857912257783,
          6460.857912257783,
          6117.529434669661,
          5396.539631734606,
          6872.852085363527,
          5619.703142166891,
          6941.517780881153,
          6872.852085363527,
          7422.17764950452,
          7284.846258469272,
          7765.506127092642,
          6323.526521222535,
          7696.840431575016,
          7696.840431575016,
          6838.519237604716,
          7353.511953986897,
          8520.828777786504,
          8932.822950892245,
          7971.503213645512,
          6804.186389845905,
          7181.847715192838,
          8726.825864339378,
          8932.822950892245,
          8520.828777786504,
          8589.494473304127,
          9413.482819515615,
          7284.846258469272,
          9413.482819515615,
          8864.157255374623,
          9001.488646409874,
          9825.47699262136,
          8589.494473304127,
          9550.814210550867,
          10237.471165727107,
          8108.8346046807565,
          9756.811297103737,
          10718.131034350477,
          8331.998115113041,
          10306.13686124473,
          9344.817123997993,
          9825.47699262136,
          7782.672550972045,
          9413.482819515615,
          9344.817123997993,
          10237.471165727107,
          9344.817123997993,
          10649.465338832848,
          9413.482819515615,
          9825.47699262136,
          9756.811297103737,
          8040.168909163134,
          10031.474079174233,
          11130.125207456218,
          8761.15871209819,
          10649.465338832848,
          10718.131034350477,
          11061.459511938596
         ]
        }
       ],
       "layout": {
        "template": {
         "data": {
          "bar": [
           {
            "error_x": {
             "color": "#2a3f5f"
            },
            "error_y": {
             "color": "#2a3f5f"
            },
            "marker": {
             "line": {
              "color": "#E5ECF6",
              "width": 0.5
             },
             "pattern": {
              "fillmode": "overlay",
              "size": 10,
              "solidity": 0.2
             }
            },
            "type": "bar"
           }
          ],
          "barpolar": [
           {
            "marker": {
             "line": {
              "color": "#E5ECF6",
              "width": 0.5
             },
             "pattern": {
              "fillmode": "overlay",
              "size": 10,
              "solidity": 0.2
             }
            },
            "type": "barpolar"
           }
          ],
          "carpet": [
           {
            "aaxis": {
             "endlinecolor": "#2a3f5f",
             "gridcolor": "white",
             "linecolor": "white",
             "minorgridcolor": "white",
             "startlinecolor": "#2a3f5f"
            },
            "baxis": {
             "endlinecolor": "#2a3f5f",
             "gridcolor": "white",
             "linecolor": "white",
             "minorgridcolor": "white",
             "startlinecolor": "#2a3f5f"
            },
            "type": "carpet"
           }
          ],
          "choropleth": [
           {
            "colorbar": {
             "outlinewidth": 0,
             "ticks": ""
            },
            "type": "choropleth"
           }
          ],
          "contour": [
           {
            "colorbar": {
             "outlinewidth": 0,
             "ticks": ""
            },
            "colorscale": [
             [
              0,
              "#0d0887"
             ],
             [
              0.1111111111111111,
              "#46039f"
             ],
             [
              0.2222222222222222,
              "#7201a8"
             ],
             [
              0.3333333333333333,
              "#9c179e"
             ],
             [
              0.4444444444444444,
              "#bd3786"
             ],
             [
              0.5555555555555556,
              "#d8576b"
             ],
             [
              0.6666666666666666,
              "#ed7953"
             ],
             [
              0.7777777777777778,
              "#fb9f3a"
             ],
             [
              0.8888888888888888,
              "#fdca26"
             ],
             [
              1,
              "#f0f921"
             ]
            ],
            "type": "contour"
           }
          ],
          "contourcarpet": [
           {
            "colorbar": {
             "outlinewidth": 0,
             "ticks": ""
            },
            "type": "contourcarpet"
           }
          ],
          "heatmap": [
           {
            "colorbar": {
             "outlinewidth": 0,
             "ticks": ""
            },
            "colorscale": [
             [
              0,
              "#0d0887"
             ],
             [
              0.1111111111111111,
              "#46039f"
             ],
             [
              0.2222222222222222,
              "#7201a8"
             ],
             [
              0.3333333333333333,
              "#9c179e"
             ],
             [
              0.4444444444444444,
              "#bd3786"
             ],
             [
              0.5555555555555556,
              "#d8576b"
             ],
             [
              0.6666666666666666,
              "#ed7953"
             ],
             [
              0.7777777777777778,
              "#fb9f3a"
             ],
             [
              0.8888888888888888,
              "#fdca26"
             ],
             [
              1,
              "#f0f921"
             ]
            ],
            "type": "heatmap"
           }
          ],
          "heatmapgl": [
           {
            "colorbar": {
             "outlinewidth": 0,
             "ticks": ""
            },
            "colorscale": [
             [
              0,
              "#0d0887"
             ],
             [
              0.1111111111111111,
              "#46039f"
             ],
             [
              0.2222222222222222,
              "#7201a8"
             ],
             [
              0.3333333333333333,
              "#9c179e"
             ],
             [
              0.4444444444444444,
              "#bd3786"
             ],
             [
              0.5555555555555556,
              "#d8576b"
             ],
             [
              0.6666666666666666,
              "#ed7953"
             ],
             [
              0.7777777777777778,
              "#fb9f3a"
             ],
             [
              0.8888888888888888,
              "#fdca26"
             ],
             [
              1,
              "#f0f921"
             ]
            ],
            "type": "heatmapgl"
           }
          ],
          "histogram": [
           {
            "marker": {
             "pattern": {
              "fillmode": "overlay",
              "size": 10,
              "solidity": 0.2
             }
            },
            "type": "histogram"
           }
          ],
          "histogram2d": [
           {
            "colorbar": {
             "outlinewidth": 0,
             "ticks": ""
            },
            "colorscale": [
             [
              0,
              "#0d0887"
             ],
             [
              0.1111111111111111,
              "#46039f"
             ],
             [
              0.2222222222222222,
              "#7201a8"
             ],
             [
              0.3333333333333333,
              "#9c179e"
             ],
             [
              0.4444444444444444,
              "#bd3786"
             ],
             [
              0.5555555555555556,
              "#d8576b"
             ],
             [
              0.6666666666666666,
              "#ed7953"
             ],
             [
              0.7777777777777778,
              "#fb9f3a"
             ],
             [
              0.8888888888888888,
              "#fdca26"
             ],
             [
              1,
              "#f0f921"
             ]
            ],
            "type": "histogram2d"
           }
          ],
          "histogram2dcontour": [
           {
            "colorbar": {
             "outlinewidth": 0,
             "ticks": ""
            },
            "colorscale": [
             [
              0,
              "#0d0887"
             ],
             [
              0.1111111111111111,
              "#46039f"
             ],
             [
              0.2222222222222222,
              "#7201a8"
             ],
             [
              0.3333333333333333,
              "#9c179e"
             ],
             [
              0.4444444444444444,
              "#bd3786"
             ],
             [
              0.5555555555555556,
              "#d8576b"
             ],
             [
              0.6666666666666666,
              "#ed7953"
             ],
             [
              0.7777777777777778,
              "#fb9f3a"
             ],
             [
              0.8888888888888888,
              "#fdca26"
             ],
             [
              1,
              "#f0f921"
             ]
            ],
            "type": "histogram2dcontour"
           }
          ],
          "mesh3d": [
           {
            "colorbar": {
             "outlinewidth": 0,
             "ticks": ""
            },
            "type": "mesh3d"
           }
          ],
          "parcoords": [
           {
            "line": {
             "colorbar": {
              "outlinewidth": 0,
              "ticks": ""
             }
            },
            "type": "parcoords"
           }
          ],
          "pie": [
           {
            "automargin": true,
            "type": "pie"
           }
          ],
          "scatter": [
           {
            "fillpattern": {
             "fillmode": "overlay",
             "size": 10,
             "solidity": 0.2
            },
            "type": "scatter"
           }
          ],
          "scatter3d": [
           {
            "line": {
             "colorbar": {
              "outlinewidth": 0,
              "ticks": ""
             }
            },
            "marker": {
             "colorbar": {
              "outlinewidth": 0,
              "ticks": ""
             }
            },
            "type": "scatter3d"
           }
          ],
          "scattercarpet": [
           {
            "marker": {
             "colorbar": {
              "outlinewidth": 0,
              "ticks": ""
             }
            },
            "type": "scattercarpet"
           }
          ],
          "scattergeo": [
           {
            "marker": {
             "colorbar": {
              "outlinewidth": 0,
              "ticks": ""
             }
            },
            "type": "scattergeo"
           }
          ],
          "scattergl": [
           {
            "marker": {
             "colorbar": {
              "outlinewidth": 0,
              "ticks": ""
             }
            },
            "type": "scattergl"
           }
          ],
          "scattermapbox": [
           {
            "marker": {
             "colorbar": {
              "outlinewidth": 0,
              "ticks": ""
             }
            },
            "type": "scattermapbox"
           }
          ],
          "scatterpolar": [
           {
            "marker": {
             "colorbar": {
              "outlinewidth": 0,
              "ticks": ""
             }
            },
            "type": "scatterpolar"
           }
          ],
          "scatterpolargl": [
           {
            "marker": {
             "colorbar": {
              "outlinewidth": 0,
              "ticks": ""
             }
            },
            "type": "scatterpolargl"
           }
          ],
          "scatterternary": [
           {
            "marker": {
             "colorbar": {
              "outlinewidth": 0,
              "ticks": ""
             }
            },
            "type": "scatterternary"
           }
          ],
          "surface": [
           {
            "colorbar": {
             "outlinewidth": 0,
             "ticks": ""
            },
            "colorscale": [
             [
              0,
              "#0d0887"
             ],
             [
              0.1111111111111111,
              "#46039f"
             ],
             [
              0.2222222222222222,
              "#7201a8"
             ],
             [
              0.3333333333333333,
              "#9c179e"
             ],
             [
              0.4444444444444444,
              "#bd3786"
             ],
             [
              0.5555555555555556,
              "#d8576b"
             ],
             [
              0.6666666666666666,
              "#ed7953"
             ],
             [
              0.7777777777777778,
              "#fb9f3a"
             ],
             [
              0.8888888888888888,
              "#fdca26"
             ],
             [
              1,
              "#f0f921"
             ]
            ],
            "type": "surface"
           }
          ],
          "table": [
           {
            "cells": {
             "fill": {
              "color": "#EBF0F8"
             },
             "line": {
              "color": "white"
             }
            },
            "header": {
             "fill": {
              "color": "#C8D4E3"
             },
             "line": {
              "color": "white"
             }
            },
            "type": "table"
           }
          ]
         },
         "layout": {
          "annotationdefaults": {
           "arrowcolor": "#2a3f5f",
           "arrowhead": 0,
           "arrowwidth": 1
          },
          "autotypenumbers": "strict",
          "coloraxis": {
           "colorbar": {
            "outlinewidth": 0,
            "ticks": ""
           }
          },
          "colorscale": {
           "diverging": [
            [
             0,
             "#8e0152"
            ],
            [
             0.1,
             "#c51b7d"
            ],
            [
             0.2,
             "#de77ae"
            ],
            [
             0.3,
             "#f1b6da"
            ],
            [
             0.4,
             "#fde0ef"
            ],
            [
             0.5,
             "#f7f7f7"
            ],
            [
             0.6,
             "#e6f5d0"
            ],
            [
             0.7,
             "#b8e186"
            ],
            [
             0.8,
             "#7fbc41"
            ],
            [
             0.9,
             "#4d9221"
            ],
            [
             1,
             "#276419"
            ]
           ],
           "sequential": [
            [
             0,
             "#0d0887"
            ],
            [
             0.1111111111111111,
             "#46039f"
            ],
            [
             0.2222222222222222,
             "#7201a8"
            ],
            [
             0.3333333333333333,
             "#9c179e"
            ],
            [
             0.4444444444444444,
             "#bd3786"
            ],
            [
             0.5555555555555556,
             "#d8576b"
            ],
            [
             0.6666666666666666,
             "#ed7953"
            ],
            [
             0.7777777777777778,
             "#fb9f3a"
            ],
            [
             0.8888888888888888,
             "#fdca26"
            ],
            [
             1,
             "#f0f921"
            ]
           ],
           "sequentialminus": [
            [
             0,
             "#0d0887"
            ],
            [
             0.1111111111111111,
             "#46039f"
            ],
            [
             0.2222222222222222,
             "#7201a8"
            ],
            [
             0.3333333333333333,
             "#9c179e"
            ],
            [
             0.4444444444444444,
             "#bd3786"
            ],
            [
             0.5555555555555556,
             "#d8576b"
            ],
            [
             0.6666666666666666,
             "#ed7953"
            ],
            [
             0.7777777777777778,
             "#fb9f3a"
            ],
            [
             0.8888888888888888,
             "#fdca26"
            ],
            [
             1,
             "#f0f921"
            ]
           ]
          },
          "colorway": [
           "#636efa",
           "#EF553B",
           "#00cc96",
           "#ab63fa",
           "#FFA15A",
           "#19d3f3",
           "#FF6692",
           "#B6E880",
           "#FF97FF",
           "#FECB52"
          ],
          "font": {
           "color": "#2a3f5f"
          },
          "geo": {
           "bgcolor": "white",
           "lakecolor": "white",
           "landcolor": "#E5ECF6",
           "showlakes": true,
           "showland": true,
           "subunitcolor": "white"
          },
          "hoverlabel": {
           "align": "left"
          },
          "hovermode": "closest",
          "mapbox": {
           "style": "light"
          },
          "paper_bgcolor": "white",
          "plot_bgcolor": "#E5ECF6",
          "polar": {
           "angularaxis": {
            "gridcolor": "white",
            "linecolor": "white",
            "ticks": ""
           },
           "bgcolor": "#E5ECF6",
           "radialaxis": {
            "gridcolor": "white",
            "linecolor": "white",
            "ticks": ""
           }
          },
          "scene": {
           "xaxis": {
            "backgroundcolor": "#E5ECF6",
            "gridcolor": "white",
            "gridwidth": 2,
            "linecolor": "white",
            "showbackground": true,
            "ticks": "",
            "zerolinecolor": "white"
           },
           "yaxis": {
            "backgroundcolor": "#E5ECF6",
            "gridcolor": "white",
            "gridwidth": 2,
            "linecolor": "white",
            "showbackground": true,
            "ticks": "",
            "zerolinecolor": "white"
           },
           "zaxis": {
            "backgroundcolor": "#E5ECF6",
            "gridcolor": "white",
            "gridwidth": 2,
            "linecolor": "white",
            "showbackground": true,
            "ticks": "",
            "zerolinecolor": "white"
           }
          },
          "shapedefaults": {
           "line": {
            "color": "#2a3f5f"
           }
          },
          "ternary": {
           "aaxis": {
            "gridcolor": "white",
            "linecolor": "white",
            "ticks": ""
           },
           "baxis": {
            "gridcolor": "white",
            "linecolor": "white",
            "ticks": ""
           },
           "bgcolor": "#E5ECF6",
           "caxis": {
            "gridcolor": "white",
            "linecolor": "white",
            "ticks": ""
           }
          },
          "title": {
           "x": 0.05
          },
          "xaxis": {
           "automargin": true,
           "gridcolor": "white",
           "linecolor": "white",
           "ticks": "",
           "title": {
            "standoff": 15
           },
           "zerolinecolor": "white",
           "zerolinewidth": 2
          },
          "yaxis": {
           "automargin": true,
           "gridcolor": "white",
           "linecolor": "white",
           "ticks": "",
           "title": {
            "standoff": 15
           },
           "zerolinecolor": "white",
           "zerolinewidth": 2
          }
         }
        },
        "title": {
         "text": "Regression line of price vs z dimension"
        },
        "xaxis": {
         "title": {
          "text": "Price"
         }
        }
       }
      }
     },
     "metadata": {},
     "output_type": "display_data"
    }
   ],
   "source": [
    "messy_data[\"fitted\"] = model2.fittedvalues\n",
    "\n",
    "fig2 = go.Figure()\n",
    "fig2.add_trace(go.Scatter(x=messy_data[\"z dimension\"], y=messy_data[\"price\"], name=\"price vs z dimension\", mode=\"markers\"))\n",
    "fig2.add_trace(go.Scatter(x=messy_data[\"z dimension\"], y=messy_data[\"fitted\"], name=\"Fitted regression line\"))\n",
    "fig2.update_layout(title=\"Regression line of price vs z dimension\", xaxis_title=\"Price\")\n",
    "fig2.show()"
   ]
  },
  {
   "cell_type": "code",
   "execution_count": 1622,
   "metadata": {},
   "outputs": [],
   "source": [
    "messy_data.to_csv(\"./dashboardData.csv\", index=False)"
   ]
  }
 ],
 "metadata": {
  "kernelspec": {
   "display_name": "Python 3",
   "language": "python",
   "name": "python3"
  },
  "language_info": {
   "codemirror_mode": {
    "name": "ipython",
    "version": 3
   },
   "file_extension": ".py",
   "mimetype": "text/x-python",
   "name": "python",
   "nbconvert_exporter": "python",
   "pygments_lexer": "ipython3",
   "version": "3.10.11"
  }
 },
 "nbformat": 4,
 "nbformat_minor": 2
}
